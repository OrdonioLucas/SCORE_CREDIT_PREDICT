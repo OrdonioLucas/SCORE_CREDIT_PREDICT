{
 "cells": [
  {
   "cell_type": "markdown",
   "metadata": {
    "id": "t0hKQ2fXP7HB"
   },
   "source": [
    "#**Aula 1 - Tratando os Dados**"
   ]
  },
  {
   "cell_type": "code",
   "execution_count": 1,
   "metadata": {
    "id": "doraVfEMHysN"
   },
   "outputs": [],
   "source": [
    "import pandas as pd"
   ]
  },
  {
   "cell_type": "code",
   "execution_count": 2,
   "metadata": {
    "id": "QSqtfUnOH1N6"
   },
   "outputs": [],
   "source": [
    "cadastrados = pd.read_csv('https://github.com/alura-tech/alura-tech-pos-data-science-credit-scoring-streamlit/blob/main/dados/clientes_cadastrados.csv?raw=True')"
   ]
  },
  {
   "cell_type": "code",
   "execution_count": 3,
   "metadata": {
    "colab": {
     "base_uri": "https://localhost:8080/",
     "height": 357
    },
    "id": "Da4D_Y2UI1DT",
    "outputId": "c26e3873-af66-4401-e4a9-54004dc99802"
   },
   "outputs": [
    {
     "data": {
      "text/html": [
       "<div>\n",
       "<style scoped>\n",
       "    .dataframe tbody tr th:only-of-type {\n",
       "        vertical-align: middle;\n",
       "    }\n",
       "\n",
       "    .dataframe tbody tr th {\n",
       "        vertical-align: top;\n",
       "    }\n",
       "\n",
       "    .dataframe thead th {\n",
       "        text-align: right;\n",
       "    }\n",
       "</style>\n",
       "<table border=\"1\" class=\"dataframe\">\n",
       "  <thead>\n",
       "    <tr style=\"text-align: right;\">\n",
       "      <th></th>\n",
       "      <th>ID_Cliente</th>\n",
       "      <th>Genero</th>\n",
       "      <th>Tem_carro</th>\n",
       "      <th>Tem_casa_propria</th>\n",
       "      <th>Qtd_filhos</th>\n",
       "      <th>Rendimento_anual</th>\n",
       "      <th>Categoria_de_renda</th>\n",
       "      <th>Grau_escolaridade</th>\n",
       "      <th>Estado_civil</th>\n",
       "      <th>Moradia</th>\n",
       "      <th>Idade</th>\n",
       "      <th>Anos_empregado</th>\n",
       "      <th>Tem_celular</th>\n",
       "      <th>Tem_telefone_trabalho</th>\n",
       "      <th>Tem_telefone_fixo</th>\n",
       "      <th>Tem_email</th>\n",
       "      <th>Ocupacao</th>\n",
       "      <th>Tamanho_familia</th>\n",
       "    </tr>\n",
       "  </thead>\n",
       "  <tbody>\n",
       "    <tr>\n",
       "      <th>0</th>\n",
       "      <td>5008804</td>\n",
       "      <td>M</td>\n",
       "      <td>Y</td>\n",
       "      <td>Y</td>\n",
       "      <td>0</td>\n",
       "      <td>427500.0</td>\n",
       "      <td>Empregado</td>\n",
       "      <td>Ensino superior</td>\n",
       "      <td>União-estável</td>\n",
       "      <td>Apartamento alugado</td>\n",
       "      <td>-12005</td>\n",
       "      <td>-4542</td>\n",
       "      <td>1</td>\n",
       "      <td>1</td>\n",
       "      <td>0</td>\n",
       "      <td>0</td>\n",
       "      <td>NaN</td>\n",
       "      <td>2.0</td>\n",
       "    </tr>\n",
       "    <tr>\n",
       "      <th>1</th>\n",
       "      <td>5008805</td>\n",
       "      <td>M</td>\n",
       "      <td>Y</td>\n",
       "      <td>Y</td>\n",
       "      <td>0</td>\n",
       "      <td>427500.0</td>\n",
       "      <td>Empregado</td>\n",
       "      <td>Ensino superior</td>\n",
       "      <td>União-estável</td>\n",
       "      <td>Apartamento alugado</td>\n",
       "      <td>-12005</td>\n",
       "      <td>-4542</td>\n",
       "      <td>1</td>\n",
       "      <td>1</td>\n",
       "      <td>0</td>\n",
       "      <td>0</td>\n",
       "      <td>NaN</td>\n",
       "      <td>2.0</td>\n",
       "    </tr>\n",
       "    <tr>\n",
       "      <th>2</th>\n",
       "      <td>5008806</td>\n",
       "      <td>M</td>\n",
       "      <td>Y</td>\n",
       "      <td>Y</td>\n",
       "      <td>0</td>\n",
       "      <td>112500.0</td>\n",
       "      <td>Empregado</td>\n",
       "      <td>Ensino médio</td>\n",
       "      <td>Casado</td>\n",
       "      <td>Casa/apartamento próprio</td>\n",
       "      <td>-21474</td>\n",
       "      <td>-1134</td>\n",
       "      <td>1</td>\n",
       "      <td>0</td>\n",
       "      <td>0</td>\n",
       "      <td>0</td>\n",
       "      <td>Segurança</td>\n",
       "      <td>2.0</td>\n",
       "    </tr>\n",
       "    <tr>\n",
       "      <th>3</th>\n",
       "      <td>5008808</td>\n",
       "      <td>F</td>\n",
       "      <td>N</td>\n",
       "      <td>Y</td>\n",
       "      <td>0</td>\n",
       "      <td>270000.0</td>\n",
       "      <td>Associado comercial</td>\n",
       "      <td>Ensino médio</td>\n",
       "      <td>Solteiro</td>\n",
       "      <td>Casa/apartamento próprio</td>\n",
       "      <td>-19110</td>\n",
       "      <td>-3051</td>\n",
       "      <td>1</td>\n",
       "      <td>0</td>\n",
       "      <td>1</td>\n",
       "      <td>1</td>\n",
       "      <td>Vendas</td>\n",
       "      <td>1.0</td>\n",
       "    </tr>\n",
       "    <tr>\n",
       "      <th>4</th>\n",
       "      <td>5008809</td>\n",
       "      <td>F</td>\n",
       "      <td>N</td>\n",
       "      <td>Y</td>\n",
       "      <td>0</td>\n",
       "      <td>270000.0</td>\n",
       "      <td>Associado comercial</td>\n",
       "      <td>Ensino médio</td>\n",
       "      <td>Solteiro</td>\n",
       "      <td>Casa/apartamento próprio</td>\n",
       "      <td>-19110</td>\n",
       "      <td>-3051</td>\n",
       "      <td>1</td>\n",
       "      <td>0</td>\n",
       "      <td>1</td>\n",
       "      <td>1</td>\n",
       "      <td>Vendas</td>\n",
       "      <td>1.0</td>\n",
       "    </tr>\n",
       "  </tbody>\n",
       "</table>\n",
       "</div>"
      ],
      "text/plain": [
       "   ID_Cliente Genero Tem_carro Tem_casa_propria  Qtd_filhos  Rendimento_anual  \\\n",
       "0     5008804      M         Y                Y           0          427500.0   \n",
       "1     5008805      M         Y                Y           0          427500.0   \n",
       "2     5008806      M         Y                Y           0          112500.0   \n",
       "3     5008808      F         N                Y           0          270000.0   \n",
       "4     5008809      F         N                Y           0          270000.0   \n",
       "\n",
       "    Categoria_de_renda Grau_escolaridade   Estado_civil  \\\n",
       "0            Empregado   Ensino superior  União-estável   \n",
       "1            Empregado   Ensino superior  União-estável   \n",
       "2            Empregado      Ensino médio         Casado   \n",
       "3  Associado comercial      Ensino médio       Solteiro   \n",
       "4  Associado comercial      Ensino médio       Solteiro   \n",
       "\n",
       "                    Moradia  Idade  Anos_empregado  Tem_celular  \\\n",
       "0       Apartamento alugado -12005           -4542            1   \n",
       "1       Apartamento alugado -12005           -4542            1   \n",
       "2  Casa/apartamento próprio -21474           -1134            1   \n",
       "3  Casa/apartamento próprio -19110           -3051            1   \n",
       "4  Casa/apartamento próprio -19110           -3051            1   \n",
       "\n",
       "   Tem_telefone_trabalho  Tem_telefone_fixo  Tem_email   Ocupacao  \\\n",
       "0                      1                  0          0        NaN   \n",
       "1                      1                  0          0        NaN   \n",
       "2                      0                  0          0  Segurança   \n",
       "3                      0                  1          1     Vendas   \n",
       "4                      0                  1          1     Vendas   \n",
       "\n",
       "   Tamanho_familia  \n",
       "0              2.0  \n",
       "1              2.0  \n",
       "2              2.0  \n",
       "3              1.0  \n",
       "4              1.0  "
      ]
     },
     "execution_count": 3,
     "metadata": {},
     "output_type": "execute_result"
    }
   ],
   "source": [
    "cadastrados.head()"
   ]
  },
  {
   "cell_type": "code",
   "execution_count": 4,
   "metadata": {
    "colab": {
     "base_uri": "https://localhost:8080/"
    },
    "id": "S6Xr5_oqPrbM",
    "outputId": "8974f04b-3ddb-46f7-dfe5-d21cdc85fbc5"
   },
   "outputs": [
    {
     "data": {
      "text/plain": [
       "(438557, 18)"
      ]
     },
     "execution_count": 4,
     "metadata": {},
     "output_type": "execute_result"
    }
   ],
   "source": [
    "cadastrados.shape"
   ]
  },
  {
   "cell_type": "code",
   "execution_count": 5,
   "metadata": {
    "colab": {
     "base_uri": "https://localhost:8080/"
    },
    "id": "qjbDqHuDI3t_",
    "outputId": "a2946da7-ff97-4809-af54-e12d356a635c"
   },
   "outputs": [
    {
     "data": {
      "text/plain": [
       "7137299    2\n",
       "7702238    2\n",
       "7282535    2\n",
       "7243768    2\n",
       "7050948    2\n",
       "          ..\n",
       "5690727    1\n",
       "6621262    1\n",
       "6621261    1\n",
       "6621260    1\n",
       "6842885    1\n",
       "Name: ID_Cliente, Length: 438510, dtype: int64"
      ]
     },
     "execution_count": 5,
     "metadata": {},
     "output_type": "execute_result"
    }
   ],
   "source": [
    "cadastrados['ID_Cliente'].value_counts()"
   ]
  },
  {
   "cell_type": "code",
   "execution_count": 6,
   "metadata": {
    "colab": {
     "base_uri": "https://localhost:8080/"
    },
    "id": "8uydmQOQP4wo",
    "outputId": "48d6c8ef-6471-4c2c-c930-ea6a5d4f8b4a"
   },
   "outputs": [
    {
     "data": {
      "text/plain": [
       "0"
      ]
     },
     "execution_count": 6,
     "metadata": {},
     "output_type": "execute_result"
    }
   ],
   "source": [
    "cadastrados.duplicated().sum()"
   ]
  },
  {
   "cell_type": "code",
   "execution_count": 7,
   "metadata": {
    "colab": {
     "base_uri": "https://localhost:8080/"
    },
    "id": "GyO4ER0wP4zN",
    "outputId": "ab5207e2-643b-41d7-b090-b4f2d9e06bac"
   },
   "outputs": [
    {
     "data": {
      "text/plain": [
       "0         False\n",
       "1         False\n",
       "2         False\n",
       "3         False\n",
       "4         False\n",
       "          ...  \n",
       "438552    False\n",
       "438553    False\n",
       "438554    False\n",
       "438555    False\n",
       "438556    False\n",
       "Name: ID_Cliente, Length: 438557, dtype: bool"
      ]
     },
     "execution_count": 7,
     "metadata": {},
     "output_type": "execute_result"
    }
   ],
   "source": [
    "cadastrados['ID_Cliente'].duplicated()"
   ]
  },
  {
   "cell_type": "code",
   "execution_count": 8,
   "metadata": {
    "colab": {
     "base_uri": "https://localhost:8080/"
    },
    "id": "fV13ueFsP41Z",
    "outputId": "7a387c11-4051-4b24-95fd-0bbed53961a1"
   },
   "outputs": [
    {
     "data": {
      "text/plain": [
       "(94, 18)"
      ]
     },
     "execution_count": 8,
     "metadata": {},
     "output_type": "execute_result"
    }
   ],
   "source": [
    "cadastrados[cadastrados['ID_Cliente'].duplicated(keep=False)].shape"
   ]
  },
  {
   "cell_type": "code",
   "execution_count": 9,
   "metadata": {
    "id": "FIfogHFvP43f"
   },
   "outputs": [],
   "source": [
    "id_repetidos = cadastrados[cadastrados['ID_Cliente'].duplicated(keep=False)]['ID_Cliente']"
   ]
  },
  {
   "cell_type": "code",
   "execution_count": 10,
   "metadata": {
    "id": "twokveaEP453"
   },
   "outputs": [],
   "source": [
    "df_cadastrados_limpo = cadastrados.drop(id_repetidos.index)"
   ]
  },
  {
   "cell_type": "code",
   "execution_count": 11,
   "metadata": {
    "colab": {
     "base_uri": "https://localhost:8080/",
     "height": 357
    },
    "id": "NJiCM_IvP48O",
    "outputId": "4f209cd0-524c-4e72-f371-dd9675265cad"
   },
   "outputs": [
    {
     "data": {
      "text/html": [
       "<div>\n",
       "<style scoped>\n",
       "    .dataframe tbody tr th:only-of-type {\n",
       "        vertical-align: middle;\n",
       "    }\n",
       "\n",
       "    .dataframe tbody tr th {\n",
       "        vertical-align: top;\n",
       "    }\n",
       "\n",
       "    .dataframe thead th {\n",
       "        text-align: right;\n",
       "    }\n",
       "</style>\n",
       "<table border=\"1\" class=\"dataframe\">\n",
       "  <thead>\n",
       "    <tr style=\"text-align: right;\">\n",
       "      <th></th>\n",
       "      <th>ID_Cliente</th>\n",
       "      <th>Genero</th>\n",
       "      <th>Tem_carro</th>\n",
       "      <th>Tem_casa_propria</th>\n",
       "      <th>Qtd_filhos</th>\n",
       "      <th>Rendimento_anual</th>\n",
       "      <th>Categoria_de_renda</th>\n",
       "      <th>Grau_escolaridade</th>\n",
       "      <th>Estado_civil</th>\n",
       "      <th>Moradia</th>\n",
       "      <th>Idade</th>\n",
       "      <th>Anos_empregado</th>\n",
       "      <th>Tem_celular</th>\n",
       "      <th>Tem_telefone_trabalho</th>\n",
       "      <th>Tem_telefone_fixo</th>\n",
       "      <th>Tem_email</th>\n",
       "      <th>Ocupacao</th>\n",
       "      <th>Tamanho_familia</th>\n",
       "    </tr>\n",
       "  </thead>\n",
       "  <tbody>\n",
       "    <tr>\n",
       "      <th>0</th>\n",
       "      <td>5008804</td>\n",
       "      <td>M</td>\n",
       "      <td>Y</td>\n",
       "      <td>Y</td>\n",
       "      <td>0</td>\n",
       "      <td>427500.0</td>\n",
       "      <td>Empregado</td>\n",
       "      <td>Ensino superior</td>\n",
       "      <td>União-estável</td>\n",
       "      <td>Apartamento alugado</td>\n",
       "      <td>-12005</td>\n",
       "      <td>-4542</td>\n",
       "      <td>1</td>\n",
       "      <td>1</td>\n",
       "      <td>0</td>\n",
       "      <td>0</td>\n",
       "      <td>NaN</td>\n",
       "      <td>2.0</td>\n",
       "    </tr>\n",
       "    <tr>\n",
       "      <th>1</th>\n",
       "      <td>5008805</td>\n",
       "      <td>M</td>\n",
       "      <td>Y</td>\n",
       "      <td>Y</td>\n",
       "      <td>0</td>\n",
       "      <td>427500.0</td>\n",
       "      <td>Empregado</td>\n",
       "      <td>Ensino superior</td>\n",
       "      <td>União-estável</td>\n",
       "      <td>Apartamento alugado</td>\n",
       "      <td>-12005</td>\n",
       "      <td>-4542</td>\n",
       "      <td>1</td>\n",
       "      <td>1</td>\n",
       "      <td>0</td>\n",
       "      <td>0</td>\n",
       "      <td>NaN</td>\n",
       "      <td>2.0</td>\n",
       "    </tr>\n",
       "    <tr>\n",
       "      <th>2</th>\n",
       "      <td>5008806</td>\n",
       "      <td>M</td>\n",
       "      <td>Y</td>\n",
       "      <td>Y</td>\n",
       "      <td>0</td>\n",
       "      <td>112500.0</td>\n",
       "      <td>Empregado</td>\n",
       "      <td>Ensino médio</td>\n",
       "      <td>Casado</td>\n",
       "      <td>Casa/apartamento próprio</td>\n",
       "      <td>-21474</td>\n",
       "      <td>-1134</td>\n",
       "      <td>1</td>\n",
       "      <td>0</td>\n",
       "      <td>0</td>\n",
       "      <td>0</td>\n",
       "      <td>Segurança</td>\n",
       "      <td>2.0</td>\n",
       "    </tr>\n",
       "    <tr>\n",
       "      <th>3</th>\n",
       "      <td>5008808</td>\n",
       "      <td>F</td>\n",
       "      <td>N</td>\n",
       "      <td>Y</td>\n",
       "      <td>0</td>\n",
       "      <td>270000.0</td>\n",
       "      <td>Associado comercial</td>\n",
       "      <td>Ensino médio</td>\n",
       "      <td>Solteiro</td>\n",
       "      <td>Casa/apartamento próprio</td>\n",
       "      <td>-19110</td>\n",
       "      <td>-3051</td>\n",
       "      <td>1</td>\n",
       "      <td>0</td>\n",
       "      <td>1</td>\n",
       "      <td>1</td>\n",
       "      <td>Vendas</td>\n",
       "      <td>1.0</td>\n",
       "    </tr>\n",
       "    <tr>\n",
       "      <th>4</th>\n",
       "      <td>5008809</td>\n",
       "      <td>F</td>\n",
       "      <td>N</td>\n",
       "      <td>Y</td>\n",
       "      <td>0</td>\n",
       "      <td>270000.0</td>\n",
       "      <td>Associado comercial</td>\n",
       "      <td>Ensino médio</td>\n",
       "      <td>Solteiro</td>\n",
       "      <td>Casa/apartamento próprio</td>\n",
       "      <td>-19110</td>\n",
       "      <td>-3051</td>\n",
       "      <td>1</td>\n",
       "      <td>0</td>\n",
       "      <td>1</td>\n",
       "      <td>1</td>\n",
       "      <td>Vendas</td>\n",
       "      <td>1.0</td>\n",
       "    </tr>\n",
       "  </tbody>\n",
       "</table>\n",
       "</div>"
      ],
      "text/plain": [
       "   ID_Cliente Genero Tem_carro Tem_casa_propria  Qtd_filhos  Rendimento_anual  \\\n",
       "0     5008804      M         Y                Y           0          427500.0   \n",
       "1     5008805      M         Y                Y           0          427500.0   \n",
       "2     5008806      M         Y                Y           0          112500.0   \n",
       "3     5008808      F         N                Y           0          270000.0   \n",
       "4     5008809      F         N                Y           0          270000.0   \n",
       "\n",
       "    Categoria_de_renda Grau_escolaridade   Estado_civil  \\\n",
       "0            Empregado   Ensino superior  União-estável   \n",
       "1            Empregado   Ensino superior  União-estável   \n",
       "2            Empregado      Ensino médio         Casado   \n",
       "3  Associado comercial      Ensino médio       Solteiro   \n",
       "4  Associado comercial      Ensino médio       Solteiro   \n",
       "\n",
       "                    Moradia  Idade  Anos_empregado  Tem_celular  \\\n",
       "0       Apartamento alugado -12005           -4542            1   \n",
       "1       Apartamento alugado -12005           -4542            1   \n",
       "2  Casa/apartamento próprio -21474           -1134            1   \n",
       "3  Casa/apartamento próprio -19110           -3051            1   \n",
       "4  Casa/apartamento próprio -19110           -3051            1   \n",
       "\n",
       "   Tem_telefone_trabalho  Tem_telefone_fixo  Tem_email   Ocupacao  \\\n",
       "0                      1                  0          0        NaN   \n",
       "1                      1                  0          0        NaN   \n",
       "2                      0                  0          0  Segurança   \n",
       "3                      0                  1          1     Vendas   \n",
       "4                      0                  1          1     Vendas   \n",
       "\n",
       "   Tamanho_familia  \n",
       "0              2.0  \n",
       "1              2.0  \n",
       "2              2.0  \n",
       "3              1.0  \n",
       "4              1.0  "
      ]
     },
     "execution_count": 11,
     "metadata": {},
     "output_type": "execute_result"
    }
   ],
   "source": [
    "df_cadastrados_limpo.head()"
   ]
  },
  {
   "cell_type": "code",
   "execution_count": 12,
   "metadata": {
    "colab": {
     "base_uri": "https://localhost:8080/"
    },
    "id": "RSc49D0RRNH3",
    "outputId": "70b6fcaa-d4bf-4a72-e64f-e98b6e27d1c8"
   },
   "outputs": [
    {
     "data": {
      "text/plain": [
       "5008804    1\n",
       "6147691    1\n",
       "6147689    1\n",
       "6147688    1\n",
       "6147685    1\n",
       "          ..\n",
       "6093492    1\n",
       "5690720    1\n",
       "6538938    1\n",
       "6538937    1\n",
       "6842885    1\n",
       "Name: ID_Cliente, Length: 438463, dtype: int64"
      ]
     },
     "execution_count": 12,
     "metadata": {},
     "output_type": "execute_result"
    }
   ],
   "source": [
    "df_cadastrados_limpo['ID_Cliente'].value_counts()"
   ]
  },
  {
   "cell_type": "code",
   "execution_count": 13,
   "metadata": {
    "colab": {
     "base_uri": "https://localhost:8080/"
    },
    "id": "Y9oNYQBIRNKa",
    "outputId": "d3152aad-0159-4fae-e2f3-fc9012e917b3"
   },
   "outputs": [
    {
     "data": {
      "text/plain": [
       "ID_Cliente                    0\n",
       "Genero                        0\n",
       "Tem_carro                     0\n",
       "Tem_casa_propria              0\n",
       "Qtd_filhos                    0\n",
       "Rendimento_anual              0\n",
       "Categoria_de_renda            0\n",
       "Grau_escolaridade             0\n",
       "Estado_civil                  0\n",
       "Moradia                       0\n",
       "Idade                         0\n",
       "Anos_empregado                0\n",
       "Tem_celular                   0\n",
       "Tem_telefone_trabalho         0\n",
       "Tem_telefone_fixo             0\n",
       "Tem_email                     0\n",
       "Ocupacao                 134177\n",
       "Tamanho_familia               0\n",
       "dtype: int64"
      ]
     },
     "execution_count": 13,
     "metadata": {},
     "output_type": "execute_result"
    }
   ],
   "source": [
    "df_cadastrados_limpo.isnull().sum()"
   ]
  },
  {
   "cell_type": "code",
   "execution_count": 14,
   "metadata": {
    "colab": {
     "base_uri": "https://localhost:8080/"
    },
    "id": "DBc-_B2nRNMt",
    "outputId": "5c0df51c-82d7-4c5e-c62b-9b87152438a9"
   },
   "outputs": [
    {
     "data": {
      "text/plain": [
       "array([nan, 'Segurança', 'Vendas', 'Contabilidade', 'Construção Civil',\n",
       "       'Gerência', 'Motorista', 'Equipe principal', 'Alta tecnologia',\n",
       "       'Limpeza', 'Serviço privado', 'Cozinha', 'Baixa qualificação',\n",
       "       'Medicina', 'Secretariado', 'Garçom', 'RH', 'Corretor imobiliário',\n",
       "       'TI'], dtype=object)"
      ]
     },
     "execution_count": 14,
     "metadata": {},
     "output_type": "execute_result"
    }
   ],
   "source": [
    "df_cadastrados_limpo['Ocupacao'].unique()"
   ]
  },
  {
   "cell_type": "code",
   "execution_count": 15,
   "metadata": {
    "id": "RzSEzMM8RNOe"
   },
   "outputs": [],
   "source": [
    "df_cadastrados_limpo['Ocupacao'].fillna(value='Outro', inplace=True)"
   ]
  },
  {
   "cell_type": "code",
   "execution_count": 16,
   "metadata": {
    "colab": {
     "base_uri": "https://localhost:8080/"
    },
    "id": "ikS2ycAlRNQz",
    "outputId": "edd74f87-3e44-4a36-d03a-c87a4813b6d2"
   },
   "outputs": [
    {
     "data": {
      "text/plain": [
       "ID_Cliente               438463\n",
       "Genero                        2\n",
       "Tem_carro                     2\n",
       "Tem_casa_propria              2\n",
       "Qtd_filhos                   12\n",
       "Rendimento_anual            866\n",
       "Categoria_de_renda            5\n",
       "Grau_escolaridade             5\n",
       "Estado_civil                  5\n",
       "Moradia                       6\n",
       "Idade                     16379\n",
       "Anos_empregado             9406\n",
       "Tem_celular                   1\n",
       "Tem_telefone_trabalho         2\n",
       "Tem_telefone_fixo             2\n",
       "Tem_email                     2\n",
       "Ocupacao                     19\n",
       "Tamanho_familia              13\n",
       "dtype: int64"
      ]
     },
     "execution_count": 16,
     "metadata": {},
     "output_type": "execute_result"
    }
   ],
   "source": [
    "df_cadastrados_limpo.nunique()"
   ]
  },
  {
   "cell_type": "code",
   "execution_count": 17,
   "metadata": {
    "id": "ddBmEiNMSAF7"
   },
   "outputs": [],
   "source": [
    "df_cadastrados_limpo.drop('Genero', axis=1, inplace=True)"
   ]
  },
  {
   "cell_type": "code",
   "execution_count": 18,
   "metadata": {
    "id": "dKX6kTGURNT2"
   },
   "outputs": [],
   "source": [
    "df_cadastrados_limpo.drop('Tem_celular', axis=1, inplace=True)"
   ]
  },
  {
   "cell_type": "code",
   "execution_count": 19,
   "metadata": {
    "colab": {
     "base_uri": "https://localhost:8080/"
    },
    "id": "EAtIgc_cR2yE",
    "outputId": "ee628844-98f9-42db-b5e3-1b6d0dbe2858"
   },
   "outputs": [
    {
     "data": {
      "text/plain": [
       "array(['Y', 'N'], dtype=object)"
      ]
     },
     "execution_count": 19,
     "metadata": {},
     "output_type": "execute_result"
    }
   ],
   "source": [
    "df_cadastrados_limpo['Tem_carro'].unique()"
   ]
  },
  {
   "cell_type": "code",
   "execution_count": 20,
   "metadata": {
    "colab": {
     "base_uri": "https://localhost:8080/"
    },
    "id": "mmmwBdqbR20c",
    "outputId": "ccfb6da8-6f5b-4e45-bbc3-400d41f6e276"
   },
   "outputs": [
    {
     "data": {
      "text/plain": [
       "array(['Y', 'N'], dtype=object)"
      ]
     },
     "execution_count": 20,
     "metadata": {},
     "output_type": "execute_result"
    }
   ],
   "source": [
    "df_cadastrados_limpo['Tem_casa_propria'].unique()"
   ]
  },
  {
   "cell_type": "code",
   "execution_count": 21,
   "metadata": {
    "colab": {
     "base_uri": "https://localhost:8080/"
    },
    "id": "3he_WVtFR23B",
    "outputId": "cc90f168-f74e-4369-c236-ddaecaf165af"
   },
   "outputs": [
    {
     "data": {
      "text/plain": [
       "array([1, 0], dtype=int64)"
      ]
     },
     "execution_count": 21,
     "metadata": {},
     "output_type": "execute_result"
    }
   ],
   "source": [
    "df_cadastrados_limpo['Tem_telefone_trabalho'].unique()"
   ]
  },
  {
   "cell_type": "code",
   "execution_count": 22,
   "metadata": {
    "colab": {
     "base_uri": "https://localhost:8080/"
    },
    "id": "FJdS-03FSLi2",
    "outputId": "ba49a869-9314-41e5-98b6-3f81569f9694"
   },
   "outputs": [
    {
     "data": {
      "text/plain": [
       "array([0, 1], dtype=int64)"
      ]
     },
     "execution_count": 22,
     "metadata": {},
     "output_type": "execute_result"
    }
   ],
   "source": [
    "df_cadastrados_limpo['Tem_telefone_fixo'].unique()"
   ]
  },
  {
   "cell_type": "code",
   "execution_count": 23,
   "metadata": {
    "colab": {
     "base_uri": "https://localhost:8080/"
    },
    "id": "-T7PHIBgSLlH",
    "outputId": "e496ac0c-0b14-45a4-eeba-9aa707a027ab"
   },
   "outputs": [
    {
     "data": {
      "text/plain": [
       "array([0, 1], dtype=int64)"
      ]
     },
     "execution_count": 23,
     "metadata": {},
     "output_type": "execute_result"
    }
   ],
   "source": [
    "df_cadastrados_limpo['Tem_email'].unique()"
   ]
  },
  {
   "cell_type": "code",
   "execution_count": 24,
   "metadata": {
    "id": "V9Q1-CtKSLnl"
   },
   "outputs": [],
   "source": [
    "df_cadastrados_limpo['Tem_carro'] = df_cadastrados_limpo['Tem_carro'].replace(['Y','N'],[1,0])\n",
    "df_cadastrados_limpo['Tem_casa_propria'] = df_cadastrados_limpo['Tem_casa_propria'].replace(['Y','N'],[1,0])"
   ]
  },
  {
   "cell_type": "code",
   "execution_count": 25,
   "metadata": {
    "colab": {
     "base_uri": "https://localhost:8080/",
     "height": 357
    },
    "id": "bfzyqV0JSlSw",
    "outputId": "3ec929b0-ac23-4c75-edc2-702815285e01"
   },
   "outputs": [
    {
     "data": {
      "text/html": [
       "<div>\n",
       "<style scoped>\n",
       "    .dataframe tbody tr th:only-of-type {\n",
       "        vertical-align: middle;\n",
       "    }\n",
       "\n",
       "    .dataframe tbody tr th {\n",
       "        vertical-align: top;\n",
       "    }\n",
       "\n",
       "    .dataframe thead th {\n",
       "        text-align: right;\n",
       "    }\n",
       "</style>\n",
       "<table border=\"1\" class=\"dataframe\">\n",
       "  <thead>\n",
       "    <tr style=\"text-align: right;\">\n",
       "      <th></th>\n",
       "      <th>ID_Cliente</th>\n",
       "      <th>Tem_carro</th>\n",
       "      <th>Tem_casa_propria</th>\n",
       "      <th>Qtd_filhos</th>\n",
       "      <th>Rendimento_anual</th>\n",
       "      <th>Categoria_de_renda</th>\n",
       "      <th>Grau_escolaridade</th>\n",
       "      <th>Estado_civil</th>\n",
       "      <th>Moradia</th>\n",
       "      <th>Idade</th>\n",
       "      <th>Anos_empregado</th>\n",
       "      <th>Tem_telefone_trabalho</th>\n",
       "      <th>Tem_telefone_fixo</th>\n",
       "      <th>Tem_email</th>\n",
       "      <th>Ocupacao</th>\n",
       "      <th>Tamanho_familia</th>\n",
       "    </tr>\n",
       "  </thead>\n",
       "  <tbody>\n",
       "    <tr>\n",
       "      <th>0</th>\n",
       "      <td>5008804</td>\n",
       "      <td>1</td>\n",
       "      <td>1</td>\n",
       "      <td>0</td>\n",
       "      <td>427500.0</td>\n",
       "      <td>Empregado</td>\n",
       "      <td>Ensino superior</td>\n",
       "      <td>União-estável</td>\n",
       "      <td>Apartamento alugado</td>\n",
       "      <td>-12005</td>\n",
       "      <td>-4542</td>\n",
       "      <td>1</td>\n",
       "      <td>0</td>\n",
       "      <td>0</td>\n",
       "      <td>Outro</td>\n",
       "      <td>2.0</td>\n",
       "    </tr>\n",
       "    <tr>\n",
       "      <th>1</th>\n",
       "      <td>5008805</td>\n",
       "      <td>1</td>\n",
       "      <td>1</td>\n",
       "      <td>0</td>\n",
       "      <td>427500.0</td>\n",
       "      <td>Empregado</td>\n",
       "      <td>Ensino superior</td>\n",
       "      <td>União-estável</td>\n",
       "      <td>Apartamento alugado</td>\n",
       "      <td>-12005</td>\n",
       "      <td>-4542</td>\n",
       "      <td>1</td>\n",
       "      <td>0</td>\n",
       "      <td>0</td>\n",
       "      <td>Outro</td>\n",
       "      <td>2.0</td>\n",
       "    </tr>\n",
       "    <tr>\n",
       "      <th>2</th>\n",
       "      <td>5008806</td>\n",
       "      <td>1</td>\n",
       "      <td>1</td>\n",
       "      <td>0</td>\n",
       "      <td>112500.0</td>\n",
       "      <td>Empregado</td>\n",
       "      <td>Ensino médio</td>\n",
       "      <td>Casado</td>\n",
       "      <td>Casa/apartamento próprio</td>\n",
       "      <td>-21474</td>\n",
       "      <td>-1134</td>\n",
       "      <td>0</td>\n",
       "      <td>0</td>\n",
       "      <td>0</td>\n",
       "      <td>Segurança</td>\n",
       "      <td>2.0</td>\n",
       "    </tr>\n",
       "    <tr>\n",
       "      <th>3</th>\n",
       "      <td>5008808</td>\n",
       "      <td>0</td>\n",
       "      <td>1</td>\n",
       "      <td>0</td>\n",
       "      <td>270000.0</td>\n",
       "      <td>Associado comercial</td>\n",
       "      <td>Ensino médio</td>\n",
       "      <td>Solteiro</td>\n",
       "      <td>Casa/apartamento próprio</td>\n",
       "      <td>-19110</td>\n",
       "      <td>-3051</td>\n",
       "      <td>0</td>\n",
       "      <td>1</td>\n",
       "      <td>1</td>\n",
       "      <td>Vendas</td>\n",
       "      <td>1.0</td>\n",
       "    </tr>\n",
       "    <tr>\n",
       "      <th>4</th>\n",
       "      <td>5008809</td>\n",
       "      <td>0</td>\n",
       "      <td>1</td>\n",
       "      <td>0</td>\n",
       "      <td>270000.0</td>\n",
       "      <td>Associado comercial</td>\n",
       "      <td>Ensino médio</td>\n",
       "      <td>Solteiro</td>\n",
       "      <td>Casa/apartamento próprio</td>\n",
       "      <td>-19110</td>\n",
       "      <td>-3051</td>\n",
       "      <td>0</td>\n",
       "      <td>1</td>\n",
       "      <td>1</td>\n",
       "      <td>Vendas</td>\n",
       "      <td>1.0</td>\n",
       "    </tr>\n",
       "  </tbody>\n",
       "</table>\n",
       "</div>"
      ],
      "text/plain": [
       "   ID_Cliente  Tem_carro  Tem_casa_propria  Qtd_filhos  Rendimento_anual  \\\n",
       "0     5008804          1                 1           0          427500.0   \n",
       "1     5008805          1                 1           0          427500.0   \n",
       "2     5008806          1                 1           0          112500.0   \n",
       "3     5008808          0                 1           0          270000.0   \n",
       "4     5008809          0                 1           0          270000.0   \n",
       "\n",
       "    Categoria_de_renda Grau_escolaridade   Estado_civil  \\\n",
       "0            Empregado   Ensino superior  União-estável   \n",
       "1            Empregado   Ensino superior  União-estável   \n",
       "2            Empregado      Ensino médio         Casado   \n",
       "3  Associado comercial      Ensino médio       Solteiro   \n",
       "4  Associado comercial      Ensino médio       Solteiro   \n",
       "\n",
       "                    Moradia  Idade  Anos_empregado  Tem_telefone_trabalho  \\\n",
       "0       Apartamento alugado -12005           -4542                      1   \n",
       "1       Apartamento alugado -12005           -4542                      1   \n",
       "2  Casa/apartamento próprio -21474           -1134                      0   \n",
       "3  Casa/apartamento próprio -19110           -3051                      0   \n",
       "4  Casa/apartamento próprio -19110           -3051                      0   \n",
       "\n",
       "   Tem_telefone_fixo  Tem_email   Ocupacao  Tamanho_familia  \n",
       "0                  0          0      Outro              2.0  \n",
       "1                  0          0      Outro              2.0  \n",
       "2                  0          0  Segurança              2.0  \n",
       "3                  1          1     Vendas              1.0  \n",
       "4                  1          1     Vendas              1.0  "
      ]
     },
     "execution_count": 25,
     "metadata": {},
     "output_type": "execute_result"
    }
   ],
   "source": [
    "df_cadastrados_limpo.head()"
   ]
  },
  {
   "cell_type": "code",
   "execution_count": 26,
   "metadata": {
    "id": "1l-JAk9kSlzo"
   },
   "outputs": [],
   "source": [
    "# Tratamento da feature Idade\n",
    "df_cadastrados_limpo['Idade']=-df_cadastrados_limpo['Idade']/365.2425"
   ]
  },
  {
   "cell_type": "code",
   "execution_count": 27,
   "metadata": {
    "colab": {
     "base_uri": "https://localhost:8080/"
    },
    "id": "P2m_RryqVEWZ",
    "outputId": "1263340f-f320-4f37-97cf-7d4d7a01a520"
   },
   "outputs": [
    {
     "data": {
      "text/plain": [
       " 365243    75314\n",
       "-218         262\n",
       "-1678        251\n",
       "-249         241\n",
       "-978         240\n",
       "           ...  \n",
       "-13529         1\n",
       "-10223         1\n",
       "-8917          1\n",
       "-11429         1\n",
       "-8105          1\n",
       "Name: Anos_empregado, Length: 9406, dtype: int64"
      ]
     },
     "execution_count": 27,
     "metadata": {},
     "output_type": "execute_result"
    }
   ],
   "source": [
    "df_cadastrados_limpo['Anos_empregado'].value_counts()"
   ]
  },
  {
   "cell_type": "code",
   "execution_count": 28,
   "metadata": {
    "id": "LCEfxMVsSl2B"
   },
   "outputs": [],
   "source": [
    "# Tratamento da feature anos empregado\n",
    "df_cadastrados_limpo['Anos_empregado']=-df_cadastrados_limpo['Anos_empregado']/365.2425"
   ]
  },
  {
   "cell_type": "code",
   "execution_count": 29,
   "metadata": {
    "colab": {
     "base_uri": "https://localhost:8080/"
    },
    "id": "kddnds1nTlcL",
    "outputId": "903add0e-6c2d-4859-a4cd-002884f3bf8f"
   },
   "outputs": [
    {
     "data": {
      "text/plain": [
       "-1000.001369    75314\n",
       " 0.596864         262\n",
       " 4.594208         251\n",
       " 0.681739         241\n",
       " 2.677673         240\n",
       "                ...  \n",
       " 37.041144          1\n",
       " 27.989623          1\n",
       " 24.413917          1\n",
       " 31.291539          1\n",
       " 22.190736          1\n",
       "Name: Anos_empregado, Length: 9406, dtype: int64"
      ]
     },
     "execution_count": 29,
     "metadata": {},
     "output_type": "execute_result"
    }
   ],
   "source": [
    "df_cadastrados_limpo['Anos_empregado'].value_counts()"
   ]
  },
  {
   "cell_type": "code",
   "execution_count": 30,
   "metadata": {
    "id": "PvjyZxUaT_FA"
   },
   "outputs": [],
   "source": [
    "df_cadastrados_limpo.loc[df_cadastrados_limpo['Anos_empregado']<0,'Anos_empregado']=0"
   ]
  },
  {
   "cell_type": "code",
   "execution_count": 31,
   "metadata": {
    "colab": {
     "base_uri": "https://localhost:8080/"
    },
    "id": "6BcDA8gcUEa4",
    "outputId": "513de5d6-a8e8-4e6f-c6ae-d6f789aa062f"
   },
   "outputs": [
    {
     "data": {
      "text/plain": [
       "0.000000     75314\n",
       "0.596864       262\n",
       "4.594208       251\n",
       "0.681739       241\n",
       "2.677673       240\n",
       "             ...  \n",
       "37.041144        1\n",
       "27.989623        1\n",
       "24.413917        1\n",
       "31.291539        1\n",
       "22.190736        1\n",
       "Name: Anos_empregado, Length: 9406, dtype: int64"
      ]
     },
     "execution_count": 31,
     "metadata": {},
     "output_type": "execute_result"
    }
   ],
   "source": [
    "df_cadastrados_limpo['Anos_empregado'].value_counts()"
   ]
  },
  {
   "cell_type": "code",
   "execution_count": 32,
   "metadata": {
    "colab": {
     "base_uri": "https://localhost:8080/",
     "height": 357
    },
    "id": "NJU24RwZSlVA",
    "outputId": "acc56884-5d88-491b-8c6e-52676dde7bbd"
   },
   "outputs": [
    {
     "data": {
      "text/html": [
       "<div>\n",
       "<style scoped>\n",
       "    .dataframe tbody tr th:only-of-type {\n",
       "        vertical-align: middle;\n",
       "    }\n",
       "\n",
       "    .dataframe tbody tr th {\n",
       "        vertical-align: top;\n",
       "    }\n",
       "\n",
       "    .dataframe thead th {\n",
       "        text-align: right;\n",
       "    }\n",
       "</style>\n",
       "<table border=\"1\" class=\"dataframe\">\n",
       "  <thead>\n",
       "    <tr style=\"text-align: right;\">\n",
       "      <th></th>\n",
       "      <th>ID_Cliente</th>\n",
       "      <th>Tem_carro</th>\n",
       "      <th>Tem_casa_propria</th>\n",
       "      <th>Qtd_filhos</th>\n",
       "      <th>Rendimento_anual</th>\n",
       "      <th>Categoria_de_renda</th>\n",
       "      <th>Grau_escolaridade</th>\n",
       "      <th>Estado_civil</th>\n",
       "      <th>Moradia</th>\n",
       "      <th>Idade</th>\n",
       "      <th>Anos_empregado</th>\n",
       "      <th>Tem_telefone_trabalho</th>\n",
       "      <th>Tem_telefone_fixo</th>\n",
       "      <th>Tem_email</th>\n",
       "      <th>Ocupacao</th>\n",
       "      <th>Tamanho_familia</th>\n",
       "    </tr>\n",
       "  </thead>\n",
       "  <tbody>\n",
       "    <tr>\n",
       "      <th>0</th>\n",
       "      <td>5008804</td>\n",
       "      <td>1</td>\n",
       "      <td>1</td>\n",
       "      <td>0</td>\n",
       "      <td>427500.0</td>\n",
       "      <td>Empregado</td>\n",
       "      <td>Ensino superior</td>\n",
       "      <td>União-estável</td>\n",
       "      <td>Apartamento alugado</td>\n",
       "      <td>32.868574</td>\n",
       "      <td>12.435574</td>\n",
       "      <td>1</td>\n",
       "      <td>0</td>\n",
       "      <td>0</td>\n",
       "      <td>Outro</td>\n",
       "      <td>2.0</td>\n",
       "    </tr>\n",
       "    <tr>\n",
       "      <th>1</th>\n",
       "      <td>5008805</td>\n",
       "      <td>1</td>\n",
       "      <td>1</td>\n",
       "      <td>0</td>\n",
       "      <td>427500.0</td>\n",
       "      <td>Empregado</td>\n",
       "      <td>Ensino superior</td>\n",
       "      <td>União-estável</td>\n",
       "      <td>Apartamento alugado</td>\n",
       "      <td>32.868574</td>\n",
       "      <td>12.435574</td>\n",
       "      <td>1</td>\n",
       "      <td>0</td>\n",
       "      <td>0</td>\n",
       "      <td>Outro</td>\n",
       "      <td>2.0</td>\n",
       "    </tr>\n",
       "    <tr>\n",
       "      <th>2</th>\n",
       "      <td>5008806</td>\n",
       "      <td>1</td>\n",
       "      <td>1</td>\n",
       "      <td>0</td>\n",
       "      <td>112500.0</td>\n",
       "      <td>Empregado</td>\n",
       "      <td>Ensino médio</td>\n",
       "      <td>Casado</td>\n",
       "      <td>Casa/apartamento próprio</td>\n",
       "      <td>58.793815</td>\n",
       "      <td>3.104787</td>\n",
       "      <td>0</td>\n",
       "      <td>0</td>\n",
       "      <td>0</td>\n",
       "      <td>Segurança</td>\n",
       "      <td>2.0</td>\n",
       "    </tr>\n",
       "    <tr>\n",
       "      <th>3</th>\n",
       "      <td>5008808</td>\n",
       "      <td>0</td>\n",
       "      <td>1</td>\n",
       "      <td>0</td>\n",
       "      <td>270000.0</td>\n",
       "      <td>Associado comercial</td>\n",
       "      <td>Ensino médio</td>\n",
       "      <td>Solteiro</td>\n",
       "      <td>Casa/apartamento próprio</td>\n",
       "      <td>52.321403</td>\n",
       "      <td>8.353354</td>\n",
       "      <td>0</td>\n",
       "      <td>1</td>\n",
       "      <td>1</td>\n",
       "      <td>Vendas</td>\n",
       "      <td>1.0</td>\n",
       "    </tr>\n",
       "    <tr>\n",
       "      <th>4</th>\n",
       "      <td>5008809</td>\n",
       "      <td>0</td>\n",
       "      <td>1</td>\n",
       "      <td>0</td>\n",
       "      <td>270000.0</td>\n",
       "      <td>Associado comercial</td>\n",
       "      <td>Ensino médio</td>\n",
       "      <td>Solteiro</td>\n",
       "      <td>Casa/apartamento próprio</td>\n",
       "      <td>52.321403</td>\n",
       "      <td>8.353354</td>\n",
       "      <td>0</td>\n",
       "      <td>1</td>\n",
       "      <td>1</td>\n",
       "      <td>Vendas</td>\n",
       "      <td>1.0</td>\n",
       "    </tr>\n",
       "  </tbody>\n",
       "</table>\n",
       "</div>"
      ],
      "text/plain": [
       "   ID_Cliente  Tem_carro  Tem_casa_propria  Qtd_filhos  Rendimento_anual  \\\n",
       "0     5008804          1                 1           0          427500.0   \n",
       "1     5008805          1                 1           0          427500.0   \n",
       "2     5008806          1                 1           0          112500.0   \n",
       "3     5008808          0                 1           0          270000.0   \n",
       "4     5008809          0                 1           0          270000.0   \n",
       "\n",
       "    Categoria_de_renda Grau_escolaridade   Estado_civil  \\\n",
       "0            Empregado   Ensino superior  União-estável   \n",
       "1            Empregado   Ensino superior  União-estável   \n",
       "2            Empregado      Ensino médio         Casado   \n",
       "3  Associado comercial      Ensino médio       Solteiro   \n",
       "4  Associado comercial      Ensino médio       Solteiro   \n",
       "\n",
       "                    Moradia      Idade  Anos_empregado  Tem_telefone_trabalho  \\\n",
       "0       Apartamento alugado  32.868574       12.435574                      1   \n",
       "1       Apartamento alugado  32.868574       12.435574                      1   \n",
       "2  Casa/apartamento próprio  58.793815        3.104787                      0   \n",
       "3  Casa/apartamento próprio  52.321403        8.353354                      0   \n",
       "4  Casa/apartamento próprio  52.321403        8.353354                      0   \n",
       "\n",
       "   Tem_telefone_fixo  Tem_email   Ocupacao  Tamanho_familia  \n",
       "0                  0          0      Outro              2.0  \n",
       "1                  0          0      Outro              2.0  \n",
       "2                  0          0  Segurança              2.0  \n",
       "3                  1          1     Vendas              1.0  \n",
       "4                  1          1     Vendas              1.0  "
      ]
     },
     "execution_count": 32,
     "metadata": {},
     "output_type": "execute_result"
    }
   ],
   "source": [
    "df_cadastrados_limpo.head()"
   ]
  },
  {
   "cell_type": "code",
   "execution_count": 33,
   "metadata": {
    "id": "kxkp57EdUMW_"
   },
   "outputs": [],
   "source": [
    "import matplotlib.pyplot as plt\n",
    "import seaborn as sns"
   ]
  },
  {
   "cell_type": "code",
   "execution_count": 34,
   "metadata": {
    "colab": {
     "base_uri": "https://localhost:8080/",
     "height": 411
    },
    "id": "GVkx1K50UO52",
    "outputId": "4c8e2ba6-32c2-461f-b7da-1062f01d427d"
   },
   "outputs": [
    {
     "name": "stderr",
     "output_type": "stream",
     "text": [
      "C:\\Users\\lucas\\AppData\\Local\\Temp\\ipykernel_16820\\1781552017.py:1: FutureWarning: The default value of numeric_only in DataFrame.corr is deprecated. In a future version, it will default to False. Select only valid columns or specify the value of numeric_only to silence this warning.\n",
      "  corr = df_cadastrados_limpo.corr()\n"
     ]
    },
    {
     "data": {
      "text/plain": [
       "<AxesSubplot:>"
      ]
     },
     "execution_count": 34,
     "metadata": {},
     "output_type": "execute_result"
    },
    {
     "data": {
      "image/png": "[encoded data removed]",
      "text/plain": [
       "<Figure size 2000x1000 with 2 Axes>"
      ]
     },
     "metadata": {},
     "output_type": "display_data"
    }
   ],
   "source": [
    "corr = df_cadastrados_limpo.corr()\n",
    "plt.figure(figsize = (20,10))\n",
    "sns.heatmap(corr, cmap=\"Blues\", annot=True)"
   ]
  },
  {
   "cell_type": "code",
   "execution_count": 35,
   "metadata": {
    "id": "mKXk6U6iUO8F"
   },
   "outputs": [],
   "source": [
    "df_cadastrados_limpo.drop(['Qtd_filhos'], axis=1, inplace=True)"
   ]
  },
  {
   "cell_type": "code",
   "execution_count": 36,
   "metadata": {
    "id": "XYtiU9wMUO-J"
   },
   "outputs": [],
   "source": [
    "df_cadastrados_limpo=df_cadastrados_limpo[['ID_Cliente', 'Tem_carro', 'Tem_casa_propria', \n",
    "                                           'Tem_telefone_trabalho', 'Tem_telefone_fixo', 'Tem_email',\n",
    "                                           'Tamanho_familia', 'Rendimento_anual', 'Idade', 'Anos_empregado',\n",
    "                                           'Categoria_de_renda', 'Grau_escolaridade', 'Estado_civil',\n",
    "                                           'Moradia', 'Ocupacao']]"
   ]
  },
  {
   "cell_type": "code",
   "execution_count": 37,
   "metadata": {
    "colab": {
     "base_uri": "https://localhost:8080/",
     "height": 357
    },
    "id": "jsPdtaD3UPAJ",
    "outputId": "91b007ce-c089-4ad6-ba19-358ca6eacc6f"
   },
   "outputs": [
    {
     "data": {
      "text/html": [
       "<div>\n",
       "<style scoped>\n",
       "    .dataframe tbody tr th:only-of-type {\n",
       "        vertical-align: middle;\n",
       "    }\n",
       "\n",
       "    .dataframe tbody tr th {\n",
       "        vertical-align: top;\n",
       "    }\n",
       "\n",
       "    .dataframe thead th {\n",
       "        text-align: right;\n",
       "    }\n",
       "</style>\n",
       "<table border=\"1\" class=\"dataframe\">\n",
       "  <thead>\n",
       "    <tr style=\"text-align: right;\">\n",
       "      <th></th>\n",
       "      <th>ID_Cliente</th>\n",
       "      <th>Tem_carro</th>\n",
       "      <th>Tem_casa_propria</th>\n",
       "      <th>Tem_telefone_trabalho</th>\n",
       "      <th>Tem_telefone_fixo</th>\n",
       "      <th>Tem_email</th>\n",
       "      <th>Tamanho_familia</th>\n",
       "      <th>Rendimento_anual</th>\n",
       "      <th>Idade</th>\n",
       "      <th>Anos_empregado</th>\n",
       "      <th>Categoria_de_renda</th>\n",
       "      <th>Grau_escolaridade</th>\n",
       "      <th>Estado_civil</th>\n",
       "      <th>Moradia</th>\n",
       "      <th>Ocupacao</th>\n",
       "    </tr>\n",
       "  </thead>\n",
       "  <tbody>\n",
       "    <tr>\n",
       "      <th>0</th>\n",
       "      <td>5008804</td>\n",
       "      <td>1</td>\n",
       "      <td>1</td>\n",
       "      <td>1</td>\n",
       "      <td>0</td>\n",
       "      <td>0</td>\n",
       "      <td>2.0</td>\n",
       "      <td>427500.0</td>\n",
       "      <td>32.868574</td>\n",
       "      <td>12.435574</td>\n",
       "      <td>Empregado</td>\n",
       "      <td>Ensino superior</td>\n",
       "      <td>União-estável</td>\n",
       "      <td>Apartamento alugado</td>\n",
       "      <td>Outro</td>\n",
       "    </tr>\n",
       "    <tr>\n",
       "      <th>1</th>\n",
       "      <td>5008805</td>\n",
       "      <td>1</td>\n",
       "      <td>1</td>\n",
       "      <td>1</td>\n",
       "      <td>0</td>\n",
       "      <td>0</td>\n",
       "      <td>2.0</td>\n",
       "      <td>427500.0</td>\n",
       "      <td>32.868574</td>\n",
       "      <td>12.435574</td>\n",
       "      <td>Empregado</td>\n",
       "      <td>Ensino superior</td>\n",
       "      <td>União-estável</td>\n",
       "      <td>Apartamento alugado</td>\n",
       "      <td>Outro</td>\n",
       "    </tr>\n",
       "    <tr>\n",
       "      <th>2</th>\n",
       "      <td>5008806</td>\n",
       "      <td>1</td>\n",
       "      <td>1</td>\n",
       "      <td>0</td>\n",
       "      <td>0</td>\n",
       "      <td>0</td>\n",
       "      <td>2.0</td>\n",
       "      <td>112500.0</td>\n",
       "      <td>58.793815</td>\n",
       "      <td>3.104787</td>\n",
       "      <td>Empregado</td>\n",
       "      <td>Ensino médio</td>\n",
       "      <td>Casado</td>\n",
       "      <td>Casa/apartamento próprio</td>\n",
       "      <td>Segurança</td>\n",
       "    </tr>\n",
       "    <tr>\n",
       "      <th>3</th>\n",
       "      <td>5008808</td>\n",
       "      <td>0</td>\n",
       "      <td>1</td>\n",
       "      <td>0</td>\n",
       "      <td>1</td>\n",
       "      <td>1</td>\n",
       "      <td>1.0</td>\n",
       "      <td>270000.0</td>\n",
       "      <td>52.321403</td>\n",
       "      <td>8.353354</td>\n",
       "      <td>Associado comercial</td>\n",
       "      <td>Ensino médio</td>\n",
       "      <td>Solteiro</td>\n",
       "      <td>Casa/apartamento próprio</td>\n",
       "      <td>Vendas</td>\n",
       "    </tr>\n",
       "    <tr>\n",
       "      <th>4</th>\n",
       "      <td>5008809</td>\n",
       "      <td>0</td>\n",
       "      <td>1</td>\n",
       "      <td>0</td>\n",
       "      <td>1</td>\n",
       "      <td>1</td>\n",
       "      <td>1.0</td>\n",
       "      <td>270000.0</td>\n",
       "      <td>52.321403</td>\n",
       "      <td>8.353354</td>\n",
       "      <td>Associado comercial</td>\n",
       "      <td>Ensino médio</td>\n",
       "      <td>Solteiro</td>\n",
       "      <td>Casa/apartamento próprio</td>\n",
       "      <td>Vendas</td>\n",
       "    </tr>\n",
       "  </tbody>\n",
       "</table>\n",
       "</div>"
      ],
      "text/plain": [
       "   ID_Cliente  Tem_carro  Tem_casa_propria  Tem_telefone_trabalho  \\\n",
       "0     5008804          1                 1                      1   \n",
       "1     5008805          1                 1                      1   \n",
       "2     5008806          1                 1                      0   \n",
       "3     5008808          0                 1                      0   \n",
       "4     5008809          0                 1                      0   \n",
       "\n",
       "   Tem_telefone_fixo  Tem_email  Tamanho_familia  Rendimento_anual      Idade  \\\n",
       "0                  0          0              2.0          427500.0  32.868574   \n",
       "1                  0          0              2.0          427500.0  32.868574   \n",
       "2                  0          0              2.0          112500.0  58.793815   \n",
       "3                  1          1              1.0          270000.0  52.321403   \n",
       "4                  1          1              1.0          270000.0  52.321403   \n",
       "\n",
       "   Anos_empregado   Categoria_de_renda Grau_escolaridade   Estado_civil  \\\n",
       "0       12.435574            Empregado   Ensino superior  União-estável   \n",
       "1       12.435574            Empregado   Ensino superior  União-estável   \n",
       "2        3.104787            Empregado      Ensino médio         Casado   \n",
       "3        8.353354  Associado comercial      Ensino médio       Solteiro   \n",
       "4        8.353354  Associado comercial      Ensino médio       Solteiro   \n",
       "\n",
       "                    Moradia   Ocupacao  \n",
       "0       Apartamento alugado      Outro  \n",
       "1       Apartamento alugado      Outro  \n",
       "2  Casa/apartamento próprio  Segurança  \n",
       "3  Casa/apartamento próprio     Vendas  \n",
       "4  Casa/apartamento próprio     Vendas  "
      ]
     },
     "execution_count": 37,
     "metadata": {},
     "output_type": "execute_result"
    }
   ],
   "source": [
    "df_cadastrados_limpo.head()"
   ]
  },
  {
   "cell_type": "code",
   "execution_count": 38,
   "metadata": {
    "id": "FaTcdMRFUkv7"
   },
   "outputs": [],
   "source": [
    "colunas_quantitativas = ['Tamanho_familia', 'Rendimento_anual', 'Idade', 'Anos_empregado']"
   ]
  },
  {
   "cell_type": "code",
   "execution_count": 39,
   "metadata": {
    "colab": {
     "base_uri": "https://localhost:8080/",
     "height": 300
    },
    "id": "xWcvmwLVUk1Z",
    "outputId": "2bcb0987-50ad-48f6-9b1e-8731b4600343"
   },
   "outputs": [
    {
     "data": {
      "text/html": [
       "<div>\n",
       "<style scoped>\n",
       "    .dataframe tbody tr th:only-of-type {\n",
       "        vertical-align: middle;\n",
       "    }\n",
       "\n",
       "    .dataframe tbody tr th {\n",
       "        vertical-align: top;\n",
       "    }\n",
       "\n",
       "    .dataframe thead th {\n",
       "        text-align: right;\n",
       "    }\n",
       "</style>\n",
       "<table border=\"1\" class=\"dataframe\">\n",
       "  <thead>\n",
       "    <tr style=\"text-align: right;\">\n",
       "      <th></th>\n",
       "      <th>Tamanho_familia</th>\n",
       "      <th>Rendimento_anual</th>\n",
       "      <th>Idade</th>\n",
       "      <th>Anos_empregado</th>\n",
       "    </tr>\n",
       "  </thead>\n",
       "  <tbody>\n",
       "    <tr>\n",
       "      <th>count</th>\n",
       "      <td>438463.000000</td>\n",
       "      <td>4.384630e+05</td>\n",
       "      <td>438463.000000</td>\n",
       "      <td>438463.000000</td>\n",
       "    </tr>\n",
       "    <tr>\n",
       "      <th>mean</th>\n",
       "      <td>2.194461</td>\n",
       "      <td>1.875220e+05</td>\n",
       "      <td>43.800857</td>\n",
       "      <td>5.948371</td>\n",
       "    </tr>\n",
       "    <tr>\n",
       "      <th>std</th>\n",
       "      <td>0.897194</td>\n",
       "      <td>1.100832e+05</td>\n",
       "      <td>11.458262</td>\n",
       "      <td>6.564112</td>\n",
       "    </tr>\n",
       "    <tr>\n",
       "      <th>min</th>\n",
       "      <td>1.000000</td>\n",
       "      <td>2.610000e+04</td>\n",
       "      <td>20.504186</td>\n",
       "      <td>0.000000</td>\n",
       "    </tr>\n",
       "    <tr>\n",
       "      <th>25%</th>\n",
       "      <td>2.000000</td>\n",
       "      <td>1.215000e+05</td>\n",
       "      <td>34.262168</td>\n",
       "      <td>1.015763</td>\n",
       "    </tr>\n",
       "    <tr>\n",
       "      <th>50%</th>\n",
       "      <td>2.000000</td>\n",
       "      <td>1.611000e+05</td>\n",
       "      <td>42.793487</td>\n",
       "      <td>4.019247</td>\n",
       "    </tr>\n",
       "    <tr>\n",
       "      <th>75%</th>\n",
       "      <td>3.000000</td>\n",
       "      <td>2.250000e+05</td>\n",
       "      <td>53.345380</td>\n",
       "      <td>8.495725</td>\n",
       "    </tr>\n",
       "    <tr>\n",
       "      <th>max</th>\n",
       "      <td>20.000000</td>\n",
       "      <td>6.750000e+06</td>\n",
       "      <td>68.997994</td>\n",
       "      <td>47.998248</td>\n",
       "    </tr>\n",
       "  </tbody>\n",
       "</table>\n",
       "</div>"
      ],
      "text/plain": [
       "       Tamanho_familia  Rendimento_anual          Idade  Anos_empregado\n",
       "count    438463.000000      4.384630e+05  438463.000000   438463.000000\n",
       "mean          2.194461      1.875220e+05      43.800857        5.948371\n",
       "std           0.897194      1.100832e+05      11.458262        6.564112\n",
       "min           1.000000      2.610000e+04      20.504186        0.000000\n",
       "25%           2.000000      1.215000e+05      34.262168        1.015763\n",
       "50%           2.000000      1.611000e+05      42.793487        4.019247\n",
       "75%           3.000000      2.250000e+05      53.345380        8.495725\n",
       "max          20.000000      6.750000e+06      68.997994       47.998248"
      ]
     },
     "execution_count": 39,
     "metadata": {},
     "output_type": "execute_result"
    }
   ],
   "source": [
    "df_cadastrados_limpo[colunas_quantitativas].describe()"
   ]
  },
  {
   "cell_type": "code",
   "execution_count": 40,
   "metadata": {
    "colab": {
     "base_uri": "https://localhost:8080/"
    },
    "id": "xFrHGCMwVsON",
    "outputId": "cc6cf591-cf89-45a2-dd49-b7d8f773ca59"
   },
   "outputs": [
    {
     "data": {
      "text/plain": [
       "Empregado              51.557144\n",
       "Associado comercial    22.972520\n",
       "Pensionista            17.214223\n",
       "Servidor público        8.252236\n",
       "Estudante               0.003877\n",
       "Name: Categoria_de_renda, dtype: float64"
      ]
     },
     "execution_count": 40,
     "metadata": {},
     "output_type": "execute_result"
    }
   ],
   "source": [
    "df_cadastrados_limpo['Categoria_de_renda'].value_counts(normalize = True) * 100"
   ]
  },
  {
   "cell_type": "code",
   "execution_count": 41,
   "metadata": {
    "colab": {
     "base_uri": "https://localhost:8080/"
    },
    "id": "KEK73PeKVsQo",
    "outputId": "f0e002d6-df17-45a4-bbaa-54c058d2a649"
   },
   "outputs": [
    {
     "data": {
      "text/plain": [
       "Ensino médio                  68.821314\n",
       "Ensino superior               26.797928\n",
       "Ensino superior incompleto     3.385690\n",
       "Ensino fundamental             0.923909\n",
       "Pós-graduação                  0.071158\n",
       "Name: Grau_escolaridade, dtype: float64"
      ]
     },
     "execution_count": 41,
     "metadata": {},
     "output_type": "execute_result"
    }
   ],
   "source": [
    "df_cadastrados_limpo['Grau_escolaridade'].value_counts(normalize = True) * 100"
   ]
  },
  {
   "cell_type": "code",
   "execution_count": 42,
   "metadata": {
    "colab": {
     "base_uri": "https://localhost:8080/"
    },
    "id": "LdUCs64mVsTM",
    "outputId": "4888bf7d-9633-4c19-ad06-e86457044c5d"
   },
   "outputs": [
    {
     "data": {
      "text/plain": [
       "Casado           68.367912\n",
       "Solteiro         12.601976\n",
       "União-estável     8.329323\n",
       "Divorciado        6.214663\n",
       "Viúvo             4.486125\n",
       "Name: Estado_civil, dtype: float64"
      ]
     },
     "execution_count": 42,
     "metadata": {},
     "output_type": "execute_result"
    }
   ],
   "source": [
    "df_cadastrados_limpo['Estado_civil'].value_counts(normalize = True) * 100"
   ]
  },
  {
   "cell_type": "code",
   "execution_count": 43,
   "metadata": {
    "colab": {
     "base_uri": "https://localhost:8080/"
    },
    "id": "y4tEHxclVsVi",
    "outputId": "f6eedea6-0afb-4b76-b54d-3c98ec492049"
   },
   "outputs": [
    {
     "data": {
      "text/plain": [
       "Casa/apartamento próprio    89.801876\n",
       "Mora com os pais             4.349740\n",
       "Habitação pública            3.241094\n",
       "Apartamento alugado          1.362259\n",
       "Apartamento comercial        0.894032\n",
       "Cooperativa habitacional     0.350999\n",
       "Name: Moradia, dtype: float64"
      ]
     },
     "execution_count": 43,
     "metadata": {},
     "output_type": "execute_result"
    }
   ],
   "source": [
    "df_cadastrados_limpo['Moradia'].value_counts(normalize = True) * 100"
   ]
  },
  {
   "cell_type": "code",
   "execution_count": 44,
   "metadata": {
    "colab": {
     "base_uri": "https://localhost:8080/"
    },
    "id": "MWbHjV5FVsYA",
    "outputId": "78df4312-f564-4e0f-84dd-d3de756d0438"
   },
   "outputs": [
    {
     "data": {
      "text/plain": [
       "Outro                   30.601670\n",
       "Construção Civil        17.840730\n",
       "Equipe principal         9.805388\n",
       "Vendas                   9.371828\n",
       "Gerência                 8.091219\n",
       "Motorista                5.949191\n",
       "Alta tecnologia          3.941724\n",
       "Contabilidade            3.644549\n",
       "Medicina                 3.083042\n",
       "Cozinha                  1.841432\n",
       "Segurança                1.822959\n",
       "Limpeza                  1.332610\n",
       "Serviço privado          0.787980\n",
       "Baixa qualificação       0.488069\n",
       "Secretariado             0.466174\n",
       "Garçom                   0.379736\n",
       "Corretor imobiliário     0.237420\n",
       "RH                       0.176526\n",
       "TI                       0.137754\n",
       "Name: Ocupacao, dtype: float64"
      ]
     },
     "execution_count": 44,
     "metadata": {},
     "output_type": "execute_result"
    }
   ],
   "source": [
    "df_cadastrados_limpo['Ocupacao'].value_counts(normalize = True) * 100"
   ]
  },
  {
   "cell_type": "code",
   "execution_count": 45,
   "metadata": {
    "id": "u7fybOvoUk3u"
   },
   "outputs": [],
   "source": [
    "import matplotlib as mpl"
   ]
  },
  {
   "cell_type": "code",
   "execution_count": 46,
   "metadata": {
    "id": "9VufWHoqUxCP"
   },
   "outputs": [],
   "source": [
    "#Configurações dos gráficos:\n",
    "mpl.rcParams['font.size'] = 14\n",
    "mpl.rcParams['figure.figsize'] = (10,6)"
   ]
  },
  {
   "cell_type": "code",
   "execution_count": 47,
   "metadata": {
    "colab": {
     "base_uri": "https://localhost:8080/",
     "height": 386
    },
    "id": "udaRGXiqUxEy",
    "outputId": "aa66955b-5fba-4ccb-af79-139f5122663c"
   },
   "outputs": [
    {
     "data": {
      "image/png": "[encoded data removed]",
      "text/plain": [
       "<Figure size 1000x600 with 1 Axes>"
      ]
     },
     "metadata": {},
     "output_type": "display_data"
    }
   ],
   "source": [
    "sns.histplot(data=df_cadastrados_limpo, x='Rendimento_anual', bins=50) \n",
    "plt.xticks(rotation=45)\n",
    "plt.show()"
   ]
  },
  {
   "cell_type": "code",
   "execution_count": 48,
   "metadata": {
    "colab": {
     "base_uri": "https://localhost:8080/",
     "height": 375
    },
    "id": "fIt7baGkUxG-",
    "outputId": "7662c2b5-1670-49a9-a34a-16eaaa4fbabe"
   },
   "outputs": [
    {
     "data": {
      "image/png": "[encoded data removed]",
      "text/plain": [
       "<Figure size 1000x600 with 1 Axes>"
      ]
     },
     "metadata": {},
     "output_type": "display_data"
    }
   ],
   "source": [
    "sns.boxplot(data=df_cadastrados_limpo, y='Rendimento_anual') \n",
    "plt.xticks(rotation=45)\n",
    "plt.show()"
   ]
  },
  {
   "cell_type": "code",
   "execution_count": 49,
   "metadata": {
    "colab": {
     "base_uri": "https://localhost:8080/",
     "height": 390
    },
    "id": "f7gGEDicU5P-",
    "outputId": "43bd3c86-83f6-4e6f-c5dd-df6232e2339e"
   },
   "outputs": [
    {
     "data": {
      "image/png": "[encoded data removed]",
      "text/plain": [
       "<Figure size 1000x600 with 1 Axes>"
      ]
     },
     "metadata": {},
     "output_type": "display_data"
    }
   ],
   "source": [
    "sns.histplot(data=df_cadastrados_limpo, x='Anos_empregado', bins=50) \n",
    "plt.xticks(rotation=45)\n",
    "plt.show()"
   ]
  },
  {
   "cell_type": "code",
   "execution_count": 50,
   "metadata": {
    "colab": {
     "base_uri": "https://localhost:8080/",
     "height": 364
    },
    "id": "GDIMBIArU5SV",
    "outputId": "9722ab0a-6ae8-49b9-da55-3a681571af74"
   },
   "outputs": [
    {
     "data": {
      "image/png": "[encoded data removed]",
      "text/plain": [
       "<Figure size 1000x600 with 1 Axes>"
      ]
     },
     "metadata": {},
     "output_type": "display_data"
    }
   ],
   "source": [
    "sns.boxplot(data=df_cadastrados_limpo, y='Anos_empregado') \n",
    "plt.xticks(rotation=45)\n",
    "plt.show()"
   ]
  },
  {
   "cell_type": "code",
   "execution_count": 51,
   "metadata": {
    "colab": {
     "base_uri": "https://localhost:8080/",
     "height": 399
    },
    "id": "yyS8PdqzU5Um",
    "outputId": "dacd1338-a777-4a8c-b5b0-c1fc04a7172d"
   },
   "outputs": [
    {
     "data": {
      "image/png": "[encoded data removed]",
      "text/plain": [
       "<Figure size 1000x600 with 1 Axes>"
      ]
     },
     "metadata": {},
     "output_type": "display_data"
    }
   ],
   "source": [
    "sns.histplot(data=df_cadastrados_limpo, x='Idade', bins=10) \n",
    "plt.xticks(rotation=45)\n",
    "plt.show()"
   ]
  },
  {
   "cell_type": "code",
   "execution_count": 52,
   "metadata": {
    "colab": {
     "base_uri": "https://localhost:8080/",
     "height": 402
    },
    "id": "iRb19_wJU5W3",
    "outputId": "4fc36993-4b29-4aa7-eb59-1ea8d20b5191"
   },
   "outputs": [
    {
     "data": {
      "image/png": "[encoded data removed]",
      "text/plain": [
       "<Figure size 1000x600 with 1 Axes>"
      ]
     },
     "metadata": {},
     "output_type": "display_data"
    }
   ],
   "source": [
    "sns.histplot(data=df_cadastrados_limpo, x='Tamanho_familia', bins=10) \n",
    "plt.xticks(rotation=45)\n",
    "plt.show()"
   ]
  },
  {
   "cell_type": "code",
   "execution_count": 53,
   "metadata": {
    "colab": {
     "base_uri": "https://localhost:8080/",
     "height": 361
    },
    "id": "_zY2wkbpU5ZR",
    "outputId": "e00bff06-542f-4d06-d765-0f08b8701ac2"
   },
   "outputs": [
    {
     "data": {
      "image/png": "[encoded data removed]",
      "text/plain": [
       "<Figure size 1000x600 with 1 Axes>"
      ]
     },
     "metadata": {},
     "output_type": "display_data"
    }
   ],
   "source": [
    "sns.boxplot(data=df_cadastrados_limpo, y='Tamanho_familia') \n",
    "plt.xticks(rotation=45)\n",
    "plt.show()"
   ]
  },
  {
   "cell_type": "code",
   "execution_count": 54,
   "metadata": {
    "colab": {
     "base_uri": "https://localhost:8080/"
    },
    "id": "vxG5qNlnU5bh",
    "outputId": "08f513b5-26b3-4d1a-f8a9-e6c844160ef0"
   },
   "outputs": [
    {
     "data": {
      "text/plain": [
       "12641"
      ]
     },
     "execution_count": 54,
     "metadata": {},
     "output_type": "execute_result"
    }
   ],
   "source": [
    "'''Técnica para remoção de outliers a partir de um intervalo de confiança\n",
    "o valor +- o desvio-padrão'''\n",
    "\n",
    "coluna = df_cadastrados_limpo['Rendimento_anual']\n",
    "\n",
    "coluna_med = coluna.mean()\n",
    "coluna_std = coluna.std()\n",
    "\n",
    "limite_sup = coluna_med + (2 * coluna_std)\n",
    "limite_inf = coluna_med - (2 * coluna_std)\n",
    "\n",
    "index_outliers = []\n",
    "\n",
    "for index, valor in coluna.items(): \n",
    "  if valor > limite_sup or valor < limite_inf:\n",
    "    index_outliers.append(index)\n",
    "\n",
    "len(index_outliers)"
   ]
  },
  {
   "cell_type": "code",
   "execution_count": 55,
   "metadata": {
    "colab": {
     "base_uri": "https://localhost:8080/"
    },
    "id": "Y3MzDhmWVLad",
    "outputId": "8a01504e-9957-49f7-925d-00a3851ce47f"
   },
   "outputs": [
    {
     "data": {
      "text/plain": [
       "(425822, 15)"
      ]
     },
     "execution_count": 55,
     "metadata": {},
     "output_type": "execute_result"
    }
   ],
   "source": [
    "df_clientes_cadastrados_sem_outliers = df_cadastrados_limpo.drop(index_outliers)\n",
    "df_clientes_cadastrados_sem_outliers.shape"
   ]
  },
  {
   "cell_type": "code",
   "execution_count": 56,
   "metadata": {
    "colab": {
     "base_uri": "https://localhost:8080/",
     "height": 351
    },
    "id": "ZuFuIC_pVLcq",
    "outputId": "4e3bb26d-f3a4-4fb5-e9af-5cfc6053c758"
   },
   "outputs": [
    {
     "data": {
      "image/png": "[encoded data removed]",
      "text/plain": [
       "<Figure size 1000x600 with 1 Axes>"
      ]
     },
     "metadata": {},
     "output_type": "display_data"
    }
   ],
   "source": [
    "sns.boxplot(data=df_clientes_cadastrados_sem_outliers, y='Rendimento_anual') \n",
    "plt.xticks(rotation=45)\n",
    "plt.show()"
   ]
  },
  {
   "cell_type": "code",
   "execution_count": 57,
   "metadata": {
    "colab": {
     "base_uri": "https://localhost:8080/"
    },
    "id": "mulXqvGfVVK4",
    "outputId": "15dcca20-3802-406a-d114-5ce10fbf9b4f"
   },
   "outputs": [
    {
     "data": {
      "text/plain": [
       "<bound method NDFrame._add_numeric_operations.<locals>.max of 2         112500.0\n",
       "3         270000.0\n",
       "4         270000.0\n",
       "5         270000.0\n",
       "6         270000.0\n",
       "            ...   \n",
       "438552    135000.0\n",
       "438553    103500.0\n",
       "438554     54000.0\n",
       "438555     72000.0\n",
       "438556    121500.0\n",
       "Name: Rendimento_anual, Length: 425822, dtype: float64>"
      ]
     },
     "execution_count": 57,
     "metadata": {},
     "output_type": "execute_result"
    }
   ],
   "source": [
    "df_clientes_cadastrados_sem_outliers['Rendimento_anual'].max"
   ]
  },
  {
   "cell_type": "code",
   "execution_count": 58,
   "metadata": {
    "colab": {
     "base_uri": "https://localhost:8080/",
     "height": 415
    },
    "id": "z5Mh59u9VVNQ",
    "outputId": "a5914fe4-8a49-41d9-a600-9764e3af7388"
   },
   "outputs": [
    {
     "data": {
      "image/png": "[encoded data removed]",
      "text/plain": [
       "<Figure size 1000x600 with 1 Axes>"
      ]
     },
     "metadata": {},
     "output_type": "display_data"
    }
   ],
   "source": [
    "fig = plt.figure(figsize=(10,6))\n",
    "ax = sns.histplot(data=df_clientes_cadastrados_sem_outliers, x='Rendimento_anual', bins=15)\n",
    "plt.xticks(rotation=360)\n",
    "ax.set_title('Distribuição da renda anual', fontsize = 20, loc='left')\n",
    "ax.set_ylabel('Número de pessoas', fontsize = 18)\n",
    "ax.set_xlabel('Renda anual ($)', fontsize = 18)\n",
    "ax.yaxis.set_tick_params(labelsize=12)\n",
    "ax.xaxis.set_tick_params(labelsize=12)\n",
    "plt.show()"
   ]
  },
  {
   "cell_type": "code",
   "execution_count": 59,
   "metadata": {
    "colab": {
     "base_uri": "https://localhost:8080/"
    },
    "id": "H9HV8UTgVVPU",
    "outputId": "a5311f25-5455-4ad3-c317-e888364609a1"
   },
   "outputs": [
    {
     "data": {
      "text/plain": [
       "(425822, 15)"
      ]
     },
     "execution_count": 59,
     "metadata": {},
     "output_type": "execute_result"
    }
   ],
   "source": [
    "df_clientes_cadastrados_tratamento1 = df_clientes_cadastrados_sem_outliers\n",
    "df_clientes_cadastrados_tratamento1.shape"
   ]
  },
  {
   "cell_type": "markdown",
   "metadata": {
    "id": "BRgZym2iP_IX"
   },
   "source": [
    "#**Aula 2 - Criando a variável Target**"
   ]
  },
  {
   "cell_type": "code",
   "execution_count": 60,
   "metadata": {
    "id": "-KxU05NZH5hU"
   },
   "outputs": [],
   "source": [
    "aprovados = pd.read_csv('https://github.com/alura-tech/alura-tech-pos-data-science-credit-scoring-streamlit/blob/main/dados/clientes_aprovados.csv?raw=True')"
   ]
  },
  {
   "cell_type": "code",
   "execution_count": 61,
   "metadata": {
    "colab": {
     "base_uri": "https://localhost:8080/"
    },
    "id": "0opp-EmSQDAq",
    "outputId": "e61119ae-2f69-424f-8cf4-7aa2e995283a"
   },
   "outputs": [
    {
     "name": "stdout",
     "output_type": "stream",
     "text": [
      "<class 'pandas.core.frame.DataFrame'>\n",
      "RangeIndex: 1048575 entries, 0 to 1048574\n",
      "Data columns (total 3 columns):\n",
      " #   Column          Non-Null Count    Dtype \n",
      "---  ------          --------------    ----- \n",
      " 0   ID_Cliente      1048575 non-null  int64 \n",
      " 1   Mes_referencia  1048575 non-null  int64 \n",
      " 2   Faixa_atraso    1048575 non-null  object\n",
      "dtypes: int64(2), object(1)\n",
      "memory usage: 24.0+ MB\n"
     ]
    }
   ],
   "source": [
    "aprovados.info()"
   ]
  },
  {
   "cell_type": "code",
   "execution_count": 62,
   "metadata": {
    "colab": {
     "base_uri": "https://localhost:8080/"
    },
    "id": "7aSQAej0QDC5",
    "outputId": "5d18ecac-27a8-4a17-d9bf-92ae1241b09f"
   },
   "outputs": [
    {
     "data": {
      "text/html": [
       "<div>\n",
       "<style scoped>\n",
       "    .dataframe tbody tr th:only-of-type {\n",
       "        vertical-align: middle;\n",
       "    }\n",
       "\n",
       "    .dataframe tbody tr th {\n",
       "        vertical-align: top;\n",
       "    }\n",
       "\n",
       "    .dataframe thead th {\n",
       "        text-align: right;\n",
       "    }\n",
       "</style>\n",
       "<table border=\"1\" class=\"dataframe\">\n",
       "  <thead>\n",
       "    <tr style=\"text-align: right;\">\n",
       "      <th></th>\n",
       "      <th>ID_Cliente</th>\n",
       "      <th>Mes_referencia</th>\n",
       "      <th>Faixa_atraso</th>\n",
       "    </tr>\n",
       "  </thead>\n",
       "  <tbody>\n",
       "    <tr>\n",
       "      <th>0</th>\n",
       "      <td>5001711</td>\n",
       "      <td>0</td>\n",
       "      <td>nenhum empréstimo</td>\n",
       "    </tr>\n",
       "    <tr>\n",
       "      <th>1</th>\n",
       "      <td>5001711</td>\n",
       "      <td>-1</td>\n",
       "      <td>1-29 dias</td>\n",
       "    </tr>\n",
       "    <tr>\n",
       "      <th>2</th>\n",
       "      <td>5001711</td>\n",
       "      <td>-2</td>\n",
       "      <td>1-29 dias</td>\n",
       "    </tr>\n",
       "    <tr>\n",
       "      <th>3</th>\n",
       "      <td>5001711</td>\n",
       "      <td>-3</td>\n",
       "      <td>1-29 dias</td>\n",
       "    </tr>\n",
       "    <tr>\n",
       "      <th>4</th>\n",
       "      <td>5001712</td>\n",
       "      <td>0</td>\n",
       "      <td>pagamento realizado</td>\n",
       "    </tr>\n",
       "  </tbody>\n",
       "</table>\n",
       "</div>"
      ],
      "text/plain": [
       "   ID_Cliente  Mes_referencia         Faixa_atraso\n",
       "0     5001711               0    nenhum empréstimo\n",
       "1     5001711              -1            1-29 dias\n",
       "2     5001711              -2            1-29 dias\n",
       "3     5001711              -3            1-29 dias\n",
       "4     5001712               0  pagamento realizado"
      ]
     },
     "execution_count": 62,
     "metadata": {},
     "output_type": "execute_result"
    }
   ],
   "source": [
    "aprovados.head()"
   ]
  },
  {
   "cell_type": "code",
   "execution_count": 63,
   "metadata": {
    "colab": {
     "base_uri": "https://localhost:8080/",
     "height": 865
    },
    "id": "XdoIMsydQDHh",
    "outputId": "10258b04-ae96-47fb-eaa4-91b75b64717b"
   },
   "outputs": [
    {
     "data": {
      "text/html": [
       "<div>\n",
       "<style scoped>\n",
       "    .dataframe tbody tr th:only-of-type {\n",
       "        vertical-align: middle;\n",
       "    }\n",
       "\n",
       "    .dataframe tbody tr th {\n",
       "        vertical-align: top;\n",
       "    }\n",
       "\n",
       "    .dataframe thead th {\n",
       "        text-align: right;\n",
       "    }\n",
       "</style>\n",
       "<table border=\"1\" class=\"dataframe\">\n",
       "  <thead>\n",
       "    <tr style=\"text-align: right;\">\n",
       "      <th></th>\n",
       "      <th>ID_Cliente</th>\n",
       "      <th>Mes_referencia</th>\n",
       "      <th>Faixa_atraso</th>\n",
       "    </tr>\n",
       "  </thead>\n",
       "  <tbody>\n",
       "    <tr>\n",
       "      <th>4</th>\n",
       "      <td>5001712</td>\n",
       "      <td>0</td>\n",
       "      <td>pagamento realizado</td>\n",
       "    </tr>\n",
       "    <tr>\n",
       "      <th>5</th>\n",
       "      <td>5001712</td>\n",
       "      <td>-1</td>\n",
       "      <td>pagamento realizado</td>\n",
       "    </tr>\n",
       "    <tr>\n",
       "      <th>6</th>\n",
       "      <td>5001712</td>\n",
       "      <td>-2</td>\n",
       "      <td>pagamento realizado</td>\n",
       "    </tr>\n",
       "    <tr>\n",
       "      <th>7</th>\n",
       "      <td>5001712</td>\n",
       "      <td>-3</td>\n",
       "      <td>pagamento realizado</td>\n",
       "    </tr>\n",
       "    <tr>\n",
       "      <th>8</th>\n",
       "      <td>5001712</td>\n",
       "      <td>-4</td>\n",
       "      <td>pagamento realizado</td>\n",
       "    </tr>\n",
       "    <tr>\n",
       "      <th>9</th>\n",
       "      <td>5001712</td>\n",
       "      <td>-5</td>\n",
       "      <td>pagamento realizado</td>\n",
       "    </tr>\n",
       "    <tr>\n",
       "      <th>10</th>\n",
       "      <td>5001712</td>\n",
       "      <td>-6</td>\n",
       "      <td>pagamento realizado</td>\n",
       "    </tr>\n",
       "    <tr>\n",
       "      <th>11</th>\n",
       "      <td>5001712</td>\n",
       "      <td>-7</td>\n",
       "      <td>pagamento realizado</td>\n",
       "    </tr>\n",
       "    <tr>\n",
       "      <th>12</th>\n",
       "      <td>5001712</td>\n",
       "      <td>-8</td>\n",
       "      <td>pagamento realizado</td>\n",
       "    </tr>\n",
       "    <tr>\n",
       "      <th>13</th>\n",
       "      <td>5001712</td>\n",
       "      <td>-9</td>\n",
       "      <td>1-29 dias</td>\n",
       "    </tr>\n",
       "    <tr>\n",
       "      <th>14</th>\n",
       "      <td>5001712</td>\n",
       "      <td>-10</td>\n",
       "      <td>1-29 dias</td>\n",
       "    </tr>\n",
       "    <tr>\n",
       "      <th>15</th>\n",
       "      <td>5001712</td>\n",
       "      <td>-11</td>\n",
       "      <td>1-29 dias</td>\n",
       "    </tr>\n",
       "    <tr>\n",
       "      <th>16</th>\n",
       "      <td>5001712</td>\n",
       "      <td>-12</td>\n",
       "      <td>1-29 dias</td>\n",
       "    </tr>\n",
       "    <tr>\n",
       "      <th>17</th>\n",
       "      <td>5001712</td>\n",
       "      <td>-13</td>\n",
       "      <td>1-29 dias</td>\n",
       "    </tr>\n",
       "    <tr>\n",
       "      <th>18</th>\n",
       "      <td>5001712</td>\n",
       "      <td>-14</td>\n",
       "      <td>1-29 dias</td>\n",
       "    </tr>\n",
       "    <tr>\n",
       "      <th>19</th>\n",
       "      <td>5001712</td>\n",
       "      <td>-15</td>\n",
       "      <td>1-29 dias</td>\n",
       "    </tr>\n",
       "    <tr>\n",
       "      <th>20</th>\n",
       "      <td>5001712</td>\n",
       "      <td>-16</td>\n",
       "      <td>1-29 dias</td>\n",
       "    </tr>\n",
       "    <tr>\n",
       "      <th>21</th>\n",
       "      <td>5001712</td>\n",
       "      <td>-17</td>\n",
       "      <td>1-29 dias</td>\n",
       "    </tr>\n",
       "    <tr>\n",
       "      <th>22</th>\n",
       "      <td>5001712</td>\n",
       "      <td>-18</td>\n",
       "      <td>1-29 dias</td>\n",
       "    </tr>\n",
       "  </tbody>\n",
       "</table>\n",
       "</div>"
      ],
      "text/plain": [
       "    ID_Cliente  Mes_referencia         Faixa_atraso\n",
       "4      5001712               0  pagamento realizado\n",
       "5      5001712              -1  pagamento realizado\n",
       "6      5001712              -2  pagamento realizado\n",
       "7      5001712              -3  pagamento realizado\n",
       "8      5001712              -4  pagamento realizado\n",
       "9      5001712              -5  pagamento realizado\n",
       "10     5001712              -6  pagamento realizado\n",
       "11     5001712              -7  pagamento realizado\n",
       "12     5001712              -8  pagamento realizado\n",
       "13     5001712              -9            1-29 dias\n",
       "14     5001712             -10            1-29 dias\n",
       "15     5001712             -11            1-29 dias\n",
       "16     5001712             -12            1-29 dias\n",
       "17     5001712             -13            1-29 dias\n",
       "18     5001712             -14            1-29 dias\n",
       "19     5001712             -15            1-29 dias\n",
       "20     5001712             -16            1-29 dias\n",
       "21     5001712             -17            1-29 dias\n",
       "22     5001712             -18            1-29 dias"
      ]
     },
     "execution_count": 63,
     "metadata": {},
     "output_type": "execute_result"
    }
   ],
   "source": [
    "aprovados.query('ID_Cliente == 5001712') #olhando um dos clientes, para ver como isso está organizado"
   ]
  },
  {
   "cell_type": "code",
   "execution_count": 64,
   "metadata": {
    "colab": {
     "base_uri": "https://localhost:8080/",
     "height": 175
    },
    "id": "u7tr4hnXQDJ1",
    "outputId": "6085e979-bbb6-496a-869f-02edad4ab5f0"
   },
   "outputs": [
    {
     "data": {
      "text/html": [
       "<div>\n",
       "<style scoped>\n",
       "    .dataframe tbody tr th:only-of-type {\n",
       "        vertical-align: middle;\n",
       "    }\n",
       "\n",
       "    .dataframe tbody tr th {\n",
       "        vertical-align: top;\n",
       "    }\n",
       "\n",
       "    .dataframe thead th {\n",
       "        text-align: right;\n",
       "    }\n",
       "</style>\n",
       "<table border=\"1\" class=\"dataframe\">\n",
       "  <thead>\n",
       "    <tr style=\"text-align: right;\">\n",
       "      <th></th>\n",
       "      <th>ID_Cliente</th>\n",
       "      <th>Mes_referencia</th>\n",
       "      <th>Faixa_atraso</th>\n",
       "    </tr>\n",
       "  </thead>\n",
       "  <tbody>\n",
       "    <tr>\n",
       "      <th>0</th>\n",
       "      <td>5001711</td>\n",
       "      <td>0</td>\n",
       "      <td>nenhum empréstimo</td>\n",
       "    </tr>\n",
       "    <tr>\n",
       "      <th>1</th>\n",
       "      <td>5001711</td>\n",
       "      <td>-1</td>\n",
       "      <td>1-29 dias</td>\n",
       "    </tr>\n",
       "    <tr>\n",
       "      <th>2</th>\n",
       "      <td>5001711</td>\n",
       "      <td>-2</td>\n",
       "      <td>1-29 dias</td>\n",
       "    </tr>\n",
       "    <tr>\n",
       "      <th>3</th>\n",
       "      <td>5001711</td>\n",
       "      <td>-3</td>\n",
       "      <td>1-29 dias</td>\n",
       "    </tr>\n",
       "  </tbody>\n",
       "</table>\n",
       "</div>"
      ],
      "text/plain": [
       "   ID_Cliente  Mes_referencia       Faixa_atraso\n",
       "0     5001711               0  nenhum empréstimo\n",
       "1     5001711              -1          1-29 dias\n",
       "2     5001711              -2          1-29 dias\n",
       "3     5001711              -3          1-29 dias"
      ]
     },
     "execution_count": 64,
     "metadata": {},
     "output_type": "execute_result"
    }
   ],
   "source": [
    "aprovados.query('ID_Cliente == 5001711') #analisando outro ID"
   ]
  },
  {
   "cell_type": "code",
   "execution_count": 65,
   "metadata": {
    "colab": {
     "base_uri": "https://localhost:8080/"
    },
    "id": "CWxzK_ffQDMK",
    "outputId": "493c3d8a-257c-4e4f-e762-07f57433a5ab"
   },
   "outputs": [
    {
     "data": {
      "text/plain": [
       "['pagamento realizado',\n",
       " '1-29 dias',\n",
       " 'nenhum empréstimo',\n",
       " '30-59 dias',\n",
       " '>150 dias',\n",
       " '60-89 dias',\n",
       " '90-119 dias',\n",
       " '120-149 dias']"
      ]
     },
     "execution_count": 65,
     "metadata": {},
     "output_type": "execute_result"
    }
   ],
   "source": [
    "aprovados.Faixa_atraso.value_counts().index.to_list()"
   ]
  },
  {
   "cell_type": "code",
   "execution_count": 66,
   "metadata": {
    "colab": {
     "base_uri": "https://localhost:8080/"
    },
    "id": "z_X9eQVkWJD6",
    "outputId": "2f96fc71-a8ea-4d3b-8aa2-27184b0009e3"
   },
   "outputs": [
    {
     "data": {
      "text/plain": [
       "ID_Cliente\n",
       "5001711    -3\n",
       "5001712   -18\n",
       "5001713   -21\n",
       "5001714   -14\n",
       "5001715   -59\n",
       "           ..\n",
       "5150482   -28\n",
       "5150483   -17\n",
       "5150484   -12\n",
       "5150485    -1\n",
       "5150487   -29\n",
       "Name: Abertura, Length: 45985, dtype: int64"
      ]
     },
     "execution_count": 66,
     "metadata": {},
     "output_type": "execute_result"
    }
   ],
   "source": [
    "df_registros_creditos_agrupados_ID = aprovados.groupby('ID_Cliente')\n",
    "ser_abertura = df_registros_creditos_agrupados_ID.apply(lambda x: min(x['Mes_referencia']))\n",
    "ser_abertura.name = 'Abertura'\n",
    "ser_abertura"
   ]
  },
  {
   "cell_type": "code",
   "execution_count": 67,
   "metadata": {
    "colab": {
     "base_uri": "https://localhost:8080/"
    },
    "id": "tzaH9IL4WJGm",
    "outputId": "6cf82571-7b5f-43d9-c161-443697442905"
   },
   "outputs": [
    {
     "data": {
      "text/html": [
       "<div>\n",
       "<style scoped>\n",
       "    .dataframe tbody tr th:only-of-type {\n",
       "        vertical-align: middle;\n",
       "    }\n",
       "\n",
       "    .dataframe tbody tr th {\n",
       "        vertical-align: top;\n",
       "    }\n",
       "\n",
       "    .dataframe thead th {\n",
       "        text-align: right;\n",
       "    }\n",
       "</style>\n",
       "<table border=\"1\" class=\"dataframe\">\n",
       "  <thead>\n",
       "    <tr style=\"text-align: right;\">\n",
       "      <th></th>\n",
       "      <th>ID_Cliente</th>\n",
       "      <th>Mes_referencia</th>\n",
       "      <th>Faixa_atraso</th>\n",
       "      <th>Abertura</th>\n",
       "    </tr>\n",
       "  </thead>\n",
       "  <tbody>\n",
       "    <tr>\n",
       "      <th>0</th>\n",
       "      <td>5001711</td>\n",
       "      <td>0</td>\n",
       "      <td>nenhum empréstimo</td>\n",
       "      <td>-3</td>\n",
       "    </tr>\n",
       "    <tr>\n",
       "      <th>1</th>\n",
       "      <td>5001711</td>\n",
       "      <td>-1</td>\n",
       "      <td>1-29 dias</td>\n",
       "      <td>-3</td>\n",
       "    </tr>\n",
       "    <tr>\n",
       "      <th>2</th>\n",
       "      <td>5001711</td>\n",
       "      <td>-2</td>\n",
       "      <td>1-29 dias</td>\n",
       "      <td>-3</td>\n",
       "    </tr>\n",
       "    <tr>\n",
       "      <th>3</th>\n",
       "      <td>5001711</td>\n",
       "      <td>-3</td>\n",
       "      <td>1-29 dias</td>\n",
       "      <td>-3</td>\n",
       "    </tr>\n",
       "    <tr>\n",
       "      <th>4</th>\n",
       "      <td>5001712</td>\n",
       "      <td>0</td>\n",
       "      <td>pagamento realizado</td>\n",
       "      <td>-18</td>\n",
       "    </tr>\n",
       "  </tbody>\n",
       "</table>\n",
       "</div>"
      ],
      "text/plain": [
       "   ID_Cliente  Mes_referencia         Faixa_atraso  Abertura\n",
       "0     5001711               0    nenhum empréstimo        -3\n",
       "1     5001711              -1            1-29 dias        -3\n",
       "2     5001711              -2            1-29 dias        -3\n",
       "3     5001711              -3            1-29 dias        -3\n",
       "4     5001712               0  pagamento realizado       -18"
      ]
     },
     "execution_count": 67,
     "metadata": {},
     "output_type": "execute_result"
    }
   ],
   "source": [
    "df_clientes_aprovados = aprovados.merge(ser_abertura, on='ID_Cliente')\n",
    "df_clientes_aprovados.head()"
   ]
  },
  {
   "cell_type": "code",
   "execution_count": 68,
   "metadata": {
    "colab": {
     "base_uri": "https://localhost:8080/"
    },
    "id": "rf7Mz04sWJI5",
    "outputId": "d7b7d553-fe78-4802-d7d0-f8c0c2729c8e"
   },
   "outputs": [
    {
     "data": {
      "text/plain": [
       "ID_Cliente\n",
       "5001711     0\n",
       "5001712     0\n",
       "5001713     0\n",
       "5001714     0\n",
       "5001715     0\n",
       "           ..\n",
       "5150482   -11\n",
       "5150483     0\n",
       "5150484     0\n",
       "5150485     0\n",
       "5150487     0\n",
       "Name: Final, Length: 45985, dtype: int64"
      ]
     },
     "execution_count": 68,
     "metadata": {},
     "output_type": "execute_result"
    }
   ],
   "source": [
    "ser_final = df_registros_creditos_agrupados_ID.apply(lambda x: max(x['Mes_referencia']))\n",
    "ser_final.name = 'Final'\n",
    "ser_final"
   ]
  },
  {
   "cell_type": "code",
   "execution_count": 69,
   "metadata": {
    "colab": {
     "base_uri": "https://localhost:8080/"
    },
    "id": "Vt2ub-6pWJLY",
    "outputId": "1716b676-79e1-4b88-92b5-cdb73c1d8936"
   },
   "outputs": [
    {
     "data": {
      "text/html": [
       "<div>\n",
       "<style scoped>\n",
       "    .dataframe tbody tr th:only-of-type {\n",
       "        vertical-align: middle;\n",
       "    }\n",
       "\n",
       "    .dataframe tbody tr th {\n",
       "        vertical-align: top;\n",
       "    }\n",
       "\n",
       "    .dataframe thead th {\n",
       "        text-align: right;\n",
       "    }\n",
       "</style>\n",
       "<table border=\"1\" class=\"dataframe\">\n",
       "  <thead>\n",
       "    <tr style=\"text-align: right;\">\n",
       "      <th></th>\n",
       "      <th>ID_Cliente</th>\n",
       "      <th>Mes_referencia</th>\n",
       "      <th>Faixa_atraso</th>\n",
       "      <th>Abertura</th>\n",
       "      <th>Final</th>\n",
       "    </tr>\n",
       "  </thead>\n",
       "  <tbody>\n",
       "    <tr>\n",
       "      <th>0</th>\n",
       "      <td>5001711</td>\n",
       "      <td>0</td>\n",
       "      <td>nenhum empréstimo</td>\n",
       "      <td>-3</td>\n",
       "      <td>0</td>\n",
       "    </tr>\n",
       "    <tr>\n",
       "      <th>1</th>\n",
       "      <td>5001711</td>\n",
       "      <td>-1</td>\n",
       "      <td>1-29 dias</td>\n",
       "      <td>-3</td>\n",
       "      <td>0</td>\n",
       "    </tr>\n",
       "    <tr>\n",
       "      <th>2</th>\n",
       "      <td>5001711</td>\n",
       "      <td>-2</td>\n",
       "      <td>1-29 dias</td>\n",
       "      <td>-3</td>\n",
       "      <td>0</td>\n",
       "    </tr>\n",
       "    <tr>\n",
       "      <th>3</th>\n",
       "      <td>5001711</td>\n",
       "      <td>-3</td>\n",
       "      <td>1-29 dias</td>\n",
       "      <td>-3</td>\n",
       "      <td>0</td>\n",
       "    </tr>\n",
       "    <tr>\n",
       "      <th>4</th>\n",
       "      <td>5001712</td>\n",
       "      <td>0</td>\n",
       "      <td>pagamento realizado</td>\n",
       "      <td>-18</td>\n",
       "      <td>0</td>\n",
       "    </tr>\n",
       "  </tbody>\n",
       "</table>\n",
       "</div>"
      ],
      "text/plain": [
       "   ID_Cliente  Mes_referencia         Faixa_atraso  Abertura  Final\n",
       "0     5001711               0    nenhum empréstimo        -3      0\n",
       "1     5001711              -1            1-29 dias        -3      0\n",
       "2     5001711              -2            1-29 dias        -3      0\n",
       "3     5001711              -3            1-29 dias        -3      0\n",
       "4     5001712               0  pagamento realizado       -18      0"
      ]
     },
     "execution_count": 69,
     "metadata": {},
     "output_type": "execute_result"
    }
   ],
   "source": [
    "df_clientes_aprovados = df_clientes_aprovados.merge(ser_final, on='ID_Cliente')\n",
    "df_clientes_aprovados.head()"
   ]
  },
  {
   "cell_type": "code",
   "execution_count": 70,
   "metadata": {
    "colab": {
     "base_uri": "https://localhost:8080/",
     "height": 206
    },
    "id": "7wrk9NC6WJNX",
    "outputId": "24545d1b-3ce9-4132-d1b1-e021d972b792"
   },
   "outputs": [
    {
     "data": {
      "text/html": [
       "<div>\n",
       "<style scoped>\n",
       "    .dataframe tbody tr th:only-of-type {\n",
       "        vertical-align: middle;\n",
       "    }\n",
       "\n",
       "    .dataframe tbody tr th {\n",
       "        vertical-align: top;\n",
       "    }\n",
       "\n",
       "    .dataframe thead th {\n",
       "        text-align: right;\n",
       "    }\n",
       "</style>\n",
       "<table border=\"1\" class=\"dataframe\">\n",
       "  <thead>\n",
       "    <tr style=\"text-align: right;\">\n",
       "      <th></th>\n",
       "      <th>ID_Cliente</th>\n",
       "      <th>Mes_referencia</th>\n",
       "      <th>Faixa_atraso</th>\n",
       "      <th>Abertura</th>\n",
       "      <th>Final</th>\n",
       "      <th>Janela</th>\n",
       "    </tr>\n",
       "  </thead>\n",
       "  <tbody>\n",
       "    <tr>\n",
       "      <th>0</th>\n",
       "      <td>5001711</td>\n",
       "      <td>0</td>\n",
       "      <td>nenhum empréstimo</td>\n",
       "      <td>-3</td>\n",
       "      <td>0</td>\n",
       "      <td>3</td>\n",
       "    </tr>\n",
       "    <tr>\n",
       "      <th>1</th>\n",
       "      <td>5001711</td>\n",
       "      <td>-1</td>\n",
       "      <td>1-29 dias</td>\n",
       "      <td>-3</td>\n",
       "      <td>0</td>\n",
       "      <td>3</td>\n",
       "    </tr>\n",
       "    <tr>\n",
       "      <th>2</th>\n",
       "      <td>5001711</td>\n",
       "      <td>-2</td>\n",
       "      <td>1-29 dias</td>\n",
       "      <td>-3</td>\n",
       "      <td>0</td>\n",
       "      <td>3</td>\n",
       "    </tr>\n",
       "    <tr>\n",
       "      <th>3</th>\n",
       "      <td>5001711</td>\n",
       "      <td>-3</td>\n",
       "      <td>1-29 dias</td>\n",
       "      <td>-3</td>\n",
       "      <td>0</td>\n",
       "      <td>3</td>\n",
       "    </tr>\n",
       "    <tr>\n",
       "      <th>4</th>\n",
       "      <td>5001712</td>\n",
       "      <td>0</td>\n",
       "      <td>pagamento realizado</td>\n",
       "      <td>-18</td>\n",
       "      <td>0</td>\n",
       "      <td>18</td>\n",
       "    </tr>\n",
       "  </tbody>\n",
       "</table>\n",
       "</div>"
      ],
      "text/plain": [
       "   ID_Cliente  Mes_referencia         Faixa_atraso  Abertura  Final  Janela\n",
       "0     5001711               0    nenhum empréstimo        -3      0       3\n",
       "1     5001711              -1            1-29 dias        -3      0       3\n",
       "2     5001711              -2            1-29 dias        -3      0       3\n",
       "3     5001711              -3            1-29 dias        -3      0       3\n",
       "4     5001712               0  pagamento realizado       -18      0      18"
      ]
     },
     "execution_count": 70,
     "metadata": {},
     "output_type": "execute_result"
    }
   ],
   "source": [
    "df_clientes_aprovados['Janela'] = df_clientes_aprovados['Final'] - df_clientes_aprovados['Abertura']\n",
    "df_clientes_aprovados.head()"
   ]
  },
  {
   "cell_type": "code",
   "execution_count": 71,
   "metadata": {
    "colab": {
     "base_uri": "https://localhost:8080/",
     "height": 206
    },
    "id": "iQGLichbWUaQ",
    "outputId": "c9fbe6b6-3427-4f2a-9b7a-48bda99c6e1e"
   },
   "outputs": [
    {
     "data": {
      "text/html": [
       "<div>\n",
       "<style scoped>\n",
       "    .dataframe tbody tr th:only-of-type {\n",
       "        vertical-align: middle;\n",
       "    }\n",
       "\n",
       "    .dataframe tbody tr th {\n",
       "        vertical-align: top;\n",
       "    }\n",
       "\n",
       "    .dataframe thead th {\n",
       "        text-align: right;\n",
       "    }\n",
       "</style>\n",
       "<table border=\"1\" class=\"dataframe\">\n",
       "  <thead>\n",
       "    <tr style=\"text-align: right;\">\n",
       "      <th></th>\n",
       "      <th>ID_Cliente</th>\n",
       "      <th>Mes_referencia</th>\n",
       "      <th>Faixa_atraso</th>\n",
       "      <th>Abertura</th>\n",
       "      <th>Final</th>\n",
       "      <th>Janela</th>\n",
       "      <th>MOB</th>\n",
       "    </tr>\n",
       "  </thead>\n",
       "  <tbody>\n",
       "    <tr>\n",
       "      <th>0</th>\n",
       "      <td>5001711</td>\n",
       "      <td>0</td>\n",
       "      <td>nenhum empréstimo</td>\n",
       "      <td>-3</td>\n",
       "      <td>0</td>\n",
       "      <td>3</td>\n",
       "      <td>3</td>\n",
       "    </tr>\n",
       "    <tr>\n",
       "      <th>1</th>\n",
       "      <td>5001711</td>\n",
       "      <td>-1</td>\n",
       "      <td>1-29 dias</td>\n",
       "      <td>-3</td>\n",
       "      <td>0</td>\n",
       "      <td>3</td>\n",
       "      <td>2</td>\n",
       "    </tr>\n",
       "    <tr>\n",
       "      <th>2</th>\n",
       "      <td>5001711</td>\n",
       "      <td>-2</td>\n",
       "      <td>1-29 dias</td>\n",
       "      <td>-3</td>\n",
       "      <td>0</td>\n",
       "      <td>3</td>\n",
       "      <td>1</td>\n",
       "    </tr>\n",
       "    <tr>\n",
       "      <th>3</th>\n",
       "      <td>5001711</td>\n",
       "      <td>-3</td>\n",
       "      <td>1-29 dias</td>\n",
       "      <td>-3</td>\n",
       "      <td>0</td>\n",
       "      <td>3</td>\n",
       "      <td>0</td>\n",
       "    </tr>\n",
       "    <tr>\n",
       "      <th>4</th>\n",
       "      <td>5001712</td>\n",
       "      <td>0</td>\n",
       "      <td>pagamento realizado</td>\n",
       "      <td>-18</td>\n",
       "      <td>0</td>\n",
       "      <td>18</td>\n",
       "      <td>18</td>\n",
       "    </tr>\n",
       "  </tbody>\n",
       "</table>\n",
       "</div>"
      ],
      "text/plain": [
       "   ID_Cliente  Mes_referencia         Faixa_atraso  Abertura  Final  Janela  \\\n",
       "0     5001711               0    nenhum empréstimo        -3      0       3   \n",
       "1     5001711              -1            1-29 dias        -3      0       3   \n",
       "2     5001711              -2            1-29 dias        -3      0       3   \n",
       "3     5001711              -3            1-29 dias        -3      0       3   \n",
       "4     5001712               0  pagamento realizado       -18      0      18   \n",
       "\n",
       "   MOB  \n",
       "0    3  \n",
       "1    2  \n",
       "2    1  \n",
       "3    0  \n",
       "4   18  "
      ]
     },
     "execution_count": 71,
     "metadata": {},
     "output_type": "execute_result"
    }
   ],
   "source": [
    "df_clientes_aprovados['MOB'] = df_clientes_aprovados['Mes_referencia'] - df_clientes_aprovados['Abertura']\n",
    "df_clientes_aprovados.head()"
   ]
  },
  {
   "cell_type": "code",
   "execution_count": 72,
   "metadata": {
    "id": "GNkvJnVKWUco"
   },
   "outputs": [],
   "source": [
    "dict_faixa_atraso_ind ={'nenhum empréstimo': 0, 'pagamento realizado': 1,\n",
    "                        '1-29 dias': 2, '30-59 dias': 3, '60-89 dias': 4,\n",
    "                        '90-119 dias': 5, '120-149 dias': 6, '>150 dias': 7}"
   ]
  },
  {
   "cell_type": "code",
   "execution_count": 73,
   "metadata": {
    "colab": {
     "base_uri": "https://localhost:8080/",
     "height": 305
    },
    "id": "Wwla9109WUe_",
    "outputId": "1a3999b8-4c3d-49e9-8974-86652b01e01d"
   },
   "outputs": [
    {
     "data": {
      "text/html": [
       "<div>\n",
       "<style scoped>\n",
       "    .dataframe tbody tr th:only-of-type {\n",
       "        vertical-align: middle;\n",
       "    }\n",
       "\n",
       "    .dataframe tbody tr th {\n",
       "        vertical-align: top;\n",
       "    }\n",
       "\n",
       "    .dataframe thead th {\n",
       "        text-align: right;\n",
       "    }\n",
       "</style>\n",
       "<table border=\"1\" class=\"dataframe\">\n",
       "  <thead>\n",
       "    <tr style=\"text-align: right;\">\n",
       "      <th></th>\n",
       "      <th>ID_Cliente</th>\n",
       "      <th>Mes_referencia</th>\n",
       "      <th>Faixa_atraso</th>\n",
       "      <th>Abertura</th>\n",
       "      <th>Final</th>\n",
       "      <th>Janela</th>\n",
       "      <th>MOB</th>\n",
       "      <th>Ind_Faixa_atraso</th>\n",
       "    </tr>\n",
       "  </thead>\n",
       "  <tbody>\n",
       "    <tr>\n",
       "      <th>0</th>\n",
       "      <td>5001711</td>\n",
       "      <td>0</td>\n",
       "      <td>nenhum empréstimo</td>\n",
       "      <td>-3</td>\n",
       "      <td>0</td>\n",
       "      <td>3</td>\n",
       "      <td>3</td>\n",
       "      <td>0</td>\n",
       "    </tr>\n",
       "    <tr>\n",
       "      <th>1</th>\n",
       "      <td>5001711</td>\n",
       "      <td>-1</td>\n",
       "      <td>1-29 dias</td>\n",
       "      <td>-3</td>\n",
       "      <td>0</td>\n",
       "      <td>3</td>\n",
       "      <td>2</td>\n",
       "      <td>2</td>\n",
       "    </tr>\n",
       "    <tr>\n",
       "      <th>2</th>\n",
       "      <td>5001711</td>\n",
       "      <td>-2</td>\n",
       "      <td>1-29 dias</td>\n",
       "      <td>-3</td>\n",
       "      <td>0</td>\n",
       "      <td>3</td>\n",
       "      <td>1</td>\n",
       "      <td>2</td>\n",
       "    </tr>\n",
       "    <tr>\n",
       "      <th>3</th>\n",
       "      <td>5001711</td>\n",
       "      <td>-3</td>\n",
       "      <td>1-29 dias</td>\n",
       "      <td>-3</td>\n",
       "      <td>0</td>\n",
       "      <td>3</td>\n",
       "      <td>0</td>\n",
       "      <td>2</td>\n",
       "    </tr>\n",
       "    <tr>\n",
       "      <th>4</th>\n",
       "      <td>5001712</td>\n",
       "      <td>0</td>\n",
       "      <td>pagamento realizado</td>\n",
       "      <td>-18</td>\n",
       "      <td>0</td>\n",
       "      <td>18</td>\n",
       "      <td>18</td>\n",
       "      <td>1</td>\n",
       "    </tr>\n",
       "  </tbody>\n",
       "</table>\n",
       "</div>"
      ],
      "text/plain": [
       "   ID_Cliente  Mes_referencia         Faixa_atraso  Abertura  Final  Janela  \\\n",
       "0     5001711               0    nenhum empréstimo        -3      0       3   \n",
       "1     5001711              -1            1-29 dias        -3      0       3   \n",
       "2     5001711              -2            1-29 dias        -3      0       3   \n",
       "3     5001711              -3            1-29 dias        -3      0       3   \n",
       "4     5001712               0  pagamento realizado       -18      0      18   \n",
       "\n",
       "   MOB  Ind_Faixa_atraso  \n",
       "0    3                 0  \n",
       "1    2                 2  \n",
       "2    1                 2  \n",
       "3    0                 2  \n",
       "4   18                 1  "
      ]
     },
     "execution_count": 73,
     "metadata": {},
     "output_type": "execute_result"
    }
   ],
   "source": [
    "df_clientes_aprovados['Ind_Faixa_atraso'] = df_clientes_aprovados['Faixa_atraso'].map(dict_faixa_atraso_ind)\n",
    "df_clientes_aprovados.head()"
   ]
  },
  {
   "cell_type": "code",
   "execution_count": null,
   "metadata": {
    "colab": {
     "base_uri": "https://localhost:8080/",
     "height": 305
    },
    "id": "nzZcAH4zWUhS",
    "outputId": "58ec956b-b3be-40b3-c0b5-b0449d66a5fd"
   },
   "outputs": [],
   "source": [
    "df_clientes_aprovados['Mau'] = df_clientes_aprovados.apply(lambda x: 1 if x['Ind_Faixa_atraso'] > 3 else 0, axis=1)\n",
    "df_clientes_aprovados.head()"
   ]
  },
  {
   "cell_type": "code",
   "execution_count": null,
   "metadata": {
    "colab": {
     "base_uri": "https://localhost:8080/",
     "height": 423
    },
    "id": "RTMJFT9AWUkC",
    "outputId": "c4890ce4-d97c-4446-eb30-26e9d07aaf97"
   },
   "outputs": [],
   "source": [
    "df_registros_creditos_ID = df_clientes_aprovados[['ID_Cliente','Abertura', 'Final', 'Janela']].groupby('ID_Cliente').apply(lambda x: x.iloc[0]).reset_index(drop=True)\n",
    "df_registros_creditos_ID"
   ]
  },
  {
   "cell_type": "code",
   "execution_count": null,
   "metadata": {
    "colab": {
     "base_uri": "https://localhost:8080/",
     "height": 423
    },
    "id": "gGBgBPFuWUmd",
    "outputId": "6c530b18-e5de-4b6b-9eb5-0546abc5b409"
   },
   "outputs": [],
   "source": [
    "df_denominador = df_registros_creditos_ID.groupby('Abertura').apply(lambda X: X['ID_Cliente'].count()).reset_index()\n",
    "df_denominador.columns = ['Abertura','Qtd_Clientes']\n",
    "df_denominador"
   ]
  },
  {
   "cell_type": "code",
   "execution_count": null,
   "metadata": {
    "colab": {
     "base_uri": "https://localhost:8080/"
    },
    "id": "70Z8UK5PWjFp",
    "outputId": "00092c33-41e3-4afe-af80-22c4eec92249"
   },
   "outputs": [],
   "source": [
    "df_vintage = df_clientes_aprovados.groupby(['Abertura','MOB']).apply(lambda X: X['ID_Cliente'].count()).reset_index()\n",
    "df_vintage.columns = ['Abertura','MOB','Qtd_Clientes']\n",
    "df_vintage"
   ]
  },
  {
   "cell_type": "code",
   "execution_count": null,
   "metadata": {
    "colab": {
     "base_uri": "https://localhost:8080/",
     "height": 423
    },
    "id": "GnzIqJ6eWjIM",
    "outputId": "abfa91d8-3173-49a8-c900-9b4fe5277b2c"
   },
   "outputs": [],
   "source": [
    "df_vintage = pd.merge(df_vintage[['Abertura','MOB']], df_denominador, on = ['Abertura'], how = 'left')\n",
    "df_vintage"
   ]
  },
  {
   "cell_type": "code",
   "execution_count": null,
   "metadata": {
    "id": "mnZ0KFDjWsNm"
   },
   "outputs": [],
   "source": [
    "import numpy as np"
   ]
  },
  {
   "cell_type": "code",
   "execution_count": null,
   "metadata": {
    "colab": {
     "base_uri": "https://localhost:8080/"
    },
    "id": "3fb2VPLcWjK7",
    "outputId": "4c29d8ed-b7de-412f-b31a-9d3e85dca4a3"
   },
   "outputs": [],
   "source": [
    "df_vintage['Qtd_Mau'] = np.nan\n",
    "\n",
    "for j in range(-60,1):\n",
    "    ls = []\n",
    "    for i in range(0,61):\n",
    "        due = list(df_clientes_aprovados.query('Mau == 1 and MOB == @i and Abertura == @j')['ID_Cliente'])\n",
    "        ls.extend(due)\n",
    "        df_vintage.loc[(df_vintage['MOB'] == i) & (df_vintage['Abertura'] == j), 'Qtd_Mau'] = len(set(ls))\n",
    "        \n",
    "df_vintage['Taxa_de_Mau']  = df_vintage['Qtd_Mau'] / df_vintage['Qtd_Clientes']\n",
    "df_vintage      "
   ]
  },
  {
   "cell_type": "code",
   "execution_count": null,
   "metadata": {
    "colab": {
     "base_uri": "https://localhost:8080/"
    },
    "id": "KVZ9J5ESWvwZ",
    "outputId": "dbdea382-5803-4cb4-b187-8fb19c8a3a19"
   },
   "outputs": [],
   "source": [
    "df_vintage_pivot = df_vintage.pivot(index = 'Abertura',\n",
    "                             columns = 'MOB',\n",
    "                             values = 'Taxa_de_Mau')\n",
    "\n",
    "df_vintage_pivot"
   ]
  },
  {
   "cell_type": "code",
   "execution_count": null,
   "metadata": {
    "colab": {
     "base_uri": "https://localhost:8080/"
    },
    "id": "dx1u3QZQWwda",
    "outputId": "9836da03-72ea-439f-aa8f-48a7e571815c"
   },
   "outputs": [],
   "source": [
    "lst = [i for i in range(0,61)]\n",
    "df_vintage_pivot[lst].T.iloc[:,:10].plot(legend = True, grid = True, title = '% acumulado de maus clientes (Atraso > que 60 dias)')\n",
    "\n",
    "plt.xlabel('MOB')\n",
    "plt.ylabel('% acumulado de maus')\n",
    "plt.legend(bbox_to_anchor=(1.2, 1), title='Abertura')\n",
    "plt.show()"
   ]
  },
  {
   "cell_type": "code",
   "execution_count": null,
   "metadata": {
    "colab": {
     "base_uri": "https://localhost:8080/"
    },
    "id": "t2RpqARKNPhQ",
    "outputId": "0d65714b-146e-4d63-af89-f6686015487c"
   },
   "outputs": [],
   "source": [
    "sns.histplot(data=df_registros_creditos_ID, x='Janela', cumulative=True, stat='density', kde=True)\n",
    "plt.title('Distribuição de clientes por janela')\n",
    "plt.xlabel('Janela')\n",
    "plt.ylabel('Percentual de clientes')\n",
    "plt.show()"
   ]
  },
  {
   "cell_type": "code",
   "execution_count": null,
   "metadata": {
    "id": "43fFAJvVWwgk"
   },
   "outputs": [],
   "source": [
    "dict_intervalo_atraso = {'maior_30_dias': 3, 'maior_60_dias': 4, 'maior_90_dias': 5,\n",
    "                        'maior_120_dias': 6, 'maior_150_dias': 7}"
   ]
  },
  {
   "cell_type": "code",
   "execution_count": null,
   "metadata": {
    "colab": {
     "base_uri": "https://localhost:8080/"
    },
    "id": "WddhlpPJW0b4",
    "outputId": "86e9d4ef-2d5e-4681-f57d-18cb5cc5de94"
   },
   "outputs": [],
   "source": [
    "for chave, valor in dict_intervalo_atraso.items():\n",
    "  df_clientes_aprovados[f'Mau_{chave}'] = df_clientes_aprovados.apply(lambda x: 1 if x['Ind_Faixa_atraso'] >= valor else 0, axis=1) # mais de 60\n",
    "df_clientes_aprovados.head()"
   ]
  },
  {
   "cell_type": "code",
   "execution_count": null,
   "metadata": {
    "colab": {
     "base_uri": "https://localhost:8080/"
    },
    "id": "WUgXpx8xW0eh",
    "outputId": "5dc8b8b5-4042-48ef-be37-df7f4fccfae0"
   },
   "outputs": [],
   "source": [
    "dict_taxa_mau = {}\n",
    "id_sum = len(set(df_clientes_aprovados['ID_Cliente']))\n",
    "\n",
    "for chave in dict_intervalo_atraso.keys():\n",
    "  df_min_mau = df_clientes_aprovados.query(f'Mau_{chave} == 1').groupby('ID_Cliente')['MOB'].min().reset_index()\n",
    "  df_mob_taxa_mau = pd.DataFrame({'MOB':range(0,61), 'Taxa_Mau': np.nan})\n",
    "  lst = []\n",
    "  for i in range(0,61):\n",
    "      due = df_min_mau.query('MOB == @i')['ID_Cliente'].to_list()\n",
    "      lst.extend(due) #cumsum\n",
    "      df_mob_taxa_mau.loc[df_mob_taxa_mau['MOB'] == i, 'Taxa_Mau'] = len(set(lst)) / id_sum\n",
    "  dict_taxa_mau[chave] = df_mob_taxa_mau['Taxa_Mau']\n",
    "\n",
    "df_taxa_mau = pd.DataFrame(dict_taxa_mau)\n",
    "df_taxa_mau"
   ]
  },
  {
   "cell_type": "code",
   "execution_count": null,
   "metadata": {
    "colab": {
     "base_uri": "https://localhost:8080/"
    },
    "id": "pFFz3jYoW0ha",
    "outputId": "bd51ba24-fac8-4692-bf65-64944464bfd6"
   },
   "outputs": [],
   "source": [
    "df_taxa_mau.plot(grid = True, title = '% acumulado de clientes maus para diversas faixas de atraso', figsize=(10, 6))\n",
    "plt.xlabel('MOB')\n",
    "plt.ylabel('% acumulado de clientes')\n",
    "plt.show()"
   ]
  },
  {
   "cell_type": "code",
   "execution_count": null,
   "metadata": {
    "colab": {
     "base_uri": "https://localhost:8080/"
    },
    "id": "vzRXwkHSW5VX",
    "outputId": "96a9765b-a7b1-4f7d-929a-9fd94a363fab"
   },
   "outputs": [],
   "source": [
    "len(df_clientes_aprovados.query('Janela >= 12').groupby('ID_Cliente').count().index)"
   ]
  },
  {
   "cell_type": "code",
   "execution_count": null,
   "metadata": {
    "colab": {
     "base_uri": "https://localhost:8080/"
    },
    "id": "aOjZ3zIpW5YG",
    "outputId": "072991fa-7cc3-4ba6-c523-77740b35cae3"
   },
   "outputs": [],
   "source": [
    "df_clientes_aprovados_tratamento1 = df_clientes_aprovados.query('Janela >= 12').copy()\n",
    "df_clientes_aprovados_tratamento1.shape"
   ]
  },
  {
   "cell_type": "code",
   "execution_count": null,
   "metadata": {
    "colab": {
     "base_uri": "https://localhost:8080/"
    },
    "id": "enBSGxweW5di",
    "outputId": "c4b96657-3055-4c5a-e02f-8352a035e6e1"
   },
   "outputs": [],
   "source": [
    "def verifica(registros):\n",
    "  lista_status = registros['Faixa_atraso'].to_list()\n",
    "  if '60-89 dias' in lista_status or '90-119 dias' in lista_status or '120-149 dias' in lista_status or '>150 dias' in lista_status:\n",
    "    return 1\n",
    "  else:\n",
    "    return 0\n",
    "  \n",
    "df_registros_creditos_id = pd.DataFrame(df_clientes_aprovados_tratamento1.groupby('ID_Cliente').apply(verifica)).reset_index()\n",
    "df_registros_creditos_id.columns = ['ID_Cliente', 'Mau']\n",
    "df_registros_creditos_id.head()"
   ]
  },
  {
   "cell_type": "code",
   "execution_count": null,
   "metadata": {
    "colab": {
     "base_uri": "https://localhost:8080/"
    },
    "id": "VCQS4VRtW5fH",
    "outputId": "2139c2fd-09a4-442d-808c-afd803f5db9e"
   },
   "outputs": [],
   "source": [
    "df_registros_creditos_id.shape"
   ]
  },
  {
   "cell_type": "code",
   "execution_count": null,
   "metadata": {
    "colab": {
     "base_uri": "https://localhost:8080/"
    },
    "id": "Tc04cWvWW0jf",
    "outputId": "91fe454e-8769-4039-e589-3059a14ccf7c"
   },
   "outputs": [],
   "source": [
    "df_registro_clientes_targets = df_clientes_cadastrados_tratamento1.merge(df_registros_creditos_id, on='ID_Cliente')\n",
    "df_registro_clientes_targets.head()"
   ]
  },
  {
   "cell_type": "code",
   "execution_count": null,
   "metadata": {
    "colab": {
     "base_uri": "https://localhost:8080/"
    },
    "id": "egw5gVtcXA47",
    "outputId": "caa6adec-407e-42ce-950c-3b6d338417dd"
   },
   "outputs": [],
   "source": [
    "df_registro_clientes_targets['Mau'].value_counts(normalize=True)*100"
   ]
  },
  {
   "cell_type": "markdown",
   "metadata": {
    "id": "swxmLr0sQEgG"
   },
   "source": [
    "#**Aula 3 - Machine Learning: Construindo a Pipeline**\n",
    "\n"
   ]
  },
  {
   "cell_type": "code",
   "execution_count": null,
   "metadata": {
    "id": "_FXswOrZXA7b"
   },
   "outputs": [],
   "source": [
    "df = df_registro_clientes_targets"
   ]
  },
  {
   "cell_type": "code",
   "execution_count": null,
   "metadata": {
    "id": "1VxuKV9zLzRL"
   },
   "outputs": [],
   "source": [
    "df.to_csv('df_clean.csv', index=False)"
   ]
  },
  {
   "cell_type": "code",
   "execution_count": null,
   "metadata": {
    "id": "4frn9fMoQGWs"
   },
   "outputs": [],
   "source": [
    "from sklearn.model_selection import train_test_split"
   ]
  },
  {
   "cell_type": "code",
   "execution_count": null,
   "metadata": {
    "id": "gmi7weGMXan2"
   },
   "outputs": [],
   "source": [
    "SEED = 1561651"
   ]
  },
  {
   "cell_type": "code",
   "execution_count": null,
   "metadata": {
    "id": "-qbYImGhXatU"
   },
   "outputs": [],
   "source": [
    "train_df, test_df = train_test_split(df, test_size=0.2, random_state=SEED)"
   ]
  },
  {
   "cell_type": "code",
   "execution_count": null,
   "metadata": {
    "colab": {
     "base_uri": "https://localhost:8080/"
    },
    "id": "UODg_Gs-XavX",
    "outputId": "f5bc6207-8a1e-43cd-e29f-403f213398d9"
   },
   "outputs": [],
   "source": [
    "train_df.shape"
   ]
  },
  {
   "cell_type": "code",
   "execution_count": null,
   "metadata": {
    "colab": {
     "base_uri": "https://localhost:8080/"
    },
    "id": "b5v7Ux00XaxQ",
    "outputId": "20890ad1-7ca9-4206-eae1-40bc05dcd4ab"
   },
   "outputs": [],
   "source": [
    "test_df.shape"
   ]
  },
  {
   "cell_type": "code",
   "execution_count": null,
   "metadata": {
    "id": "HBBCiXb5Xaze"
   },
   "outputs": [],
   "source": [
    "train_df_copy = train_df.copy()\n",
    "test_df_copy = test_df.copy()"
   ]
  },
  {
   "cell_type": "code",
   "execution_count": null,
   "metadata": {
    "id": "Fj6wtiFIQG9T"
   },
   "outputs": [],
   "source": [
    "train_df.to_csv('train.csv',index=False)"
   ]
  },
  {
   "cell_type": "code",
   "execution_count": null,
   "metadata": {
    "id": "4kvdt9EtQG_t"
   },
   "outputs": [],
   "source": [
    "train_df.to_csv('test.csv',index=False)"
   ]
  },
  {
   "cell_type": "code",
   "execution_count": null,
   "metadata": {
    "colab": {
     "base_uri": "https://localhost:8080/"
    },
    "id": "o-ZptnyQXop8",
    "outputId": "9d28fbcd-5f10-4d96-cd5e-3ad4426e292d"
   },
   "outputs": [],
   "source": [
    "train_df.head()"
   ]
  },
  {
   "cell_type": "code",
   "execution_count": null,
   "metadata": {
    "id": "dDFXzhx_X3wJ"
   },
   "outputs": [],
   "source": [
    "from sklearn.base import BaseEstimator, TransformerMixin \n",
    "from sklearn.preprocessing import MinMaxScaler, OneHotEncoder, OrdinalEncoder\n",
    "from imblearn.over_sampling import SMOTE"
   ]
  },
  {
   "cell_type": "code",
   "execution_count": null,
   "metadata": {
    "id": "ZDUxnnInX3yk"
   },
   "outputs": [],
   "source": [
    "class DropFeatures(BaseEstimator,TransformerMixin):\n",
    "    def __init__(self,feature_to_drop = ['ID_Cliente']):\n",
    "        self.feature_to_drop = feature_to_drop\n",
    "    def fit(self,df):\n",
    "        return self\n",
    "    def transform(self,df):\n",
    "        if (set(self.feature_to_drop).issubset(df.columns)):\n",
    "            df.drop(self.feature_to_drop,axis=1,inplace=True)\n",
    "            return df\n",
    "        else:\n",
    "            print('Uma ou mais features não estão no DataFrame')\n",
    "            return df"
   ]
  },
  {
   "cell_type": "code",
   "execution_count": null,
   "metadata": {
    "id": "vI2M9nIRYDN6"
   },
   "outputs": [],
   "source": [
    "class MinMax(BaseEstimator,TransformerMixin):\n",
    "    def __init__(self,min_max_scaler  = ['Idade', 'Rendimento_anual', 'Tamanho_familia', 'Anos_empregado']):\n",
    "        self.min_max_scaler = min_max_scaler \n",
    "    def fit(self,df):\n",
    "        return self\n",
    "    def transform(self,df):\n",
    "        if (set(self.min_max_scaler ).issubset(df.columns)):\n",
    "            min_max_enc = MinMaxScaler()\n",
    "            df[self.min_max_scaler] = min_max_enc.fit_transform(df[self.min_max_scaler ])\n",
    "            return df\n",
    "        else:\n",
    "            print('Uma ou mais features não estão no DataFrame')\n",
    "            return df"
   ]
  },
  {
   "cell_type": "code",
   "execution_count": null,
   "metadata": {
    "id": "e1uPF8nxX33b"
   },
   "outputs": [],
   "source": [
    "class OneHotEncodingNames(BaseEstimator,TransformerMixin):\n",
    "    def __init__(self,OneHotEncoding = ['Estado_civil', 'Moradia', 'Categoria_de_renda', \n",
    "                                        'Ocupacao']):                                      \n",
    "                                                                               \n",
    "        self.OneHotEncoding = OneHotEncoding\n",
    "\n",
    "    def fit(self,df):\n",
    "        return self\n",
    "\n",
    "    def transform(self,df):\n",
    "        if (set(self.OneHotEncoding).issubset(df.columns)):\n",
    "            # função para one-hot-encoding das features\n",
    "            def one_hot_enc(df,OneHotEncoding):\n",
    "                one_hot_enc = OneHotEncoder()\n",
    "                one_hot_enc.fit(df[OneHotEncoding])\n",
    "                # obtendo o resultado dos nomes das colunas\n",
    "                feature_names = one_hot_enc.get_feature_names(OneHotEncoding)\n",
    "                # mudando o array do one hot encoding para um dataframe com os nomes das colunas\n",
    "                df = pd.DataFrame(one_hot_enc.transform(df[self.OneHotEncoding]).toarray(),\n",
    "                                  columns= feature_names,index=df.index)\n",
    "                return df\n",
    "\n",
    "            # função para concatenar as features com aquelas que não passaram pelo one-hot-encoding\n",
    "            def concat_with_rest(df,one_hot_enc_df,OneHotEncoding):              \n",
    "                # get the rest of the features\n",
    "                outras_features = [feature for feature in df.columns if feature not in OneHotEncoding]\n",
    "                # concaternar o restante das features com as features que passaram pelo one-hot-encoding\n",
    "                df_concat = pd.concat([one_hot_enc_df, df[outras_features]],axis=1)\n",
    "                return df_concat\n",
    "\n",
    "            # one hot encoded dataframe\n",
    "            df_OneHotEncoding = one_hot_enc(df,self.OneHotEncoding)\n",
    "\n",
    "            # retorna o dataframe concatenado\n",
    "            df_full = concat_with_rest(df, df_OneHotEncoding,self.OneHotEncoding)\n",
    "            return df_full\n",
    "\n",
    "        else:\n",
    "            print('Uma ou mais features não estão no DataFrame')\n",
    "            return df"
   ]
  },
  {
   "cell_type": "code",
   "execution_count": null,
   "metadata": {
    "id": "18LqHij-X350"
   },
   "outputs": [],
   "source": [
    "class OrdinalFeature(BaseEstimator,TransformerMixin):\n",
    "    def __init__(self,ordinal_feature = ['Grau_escolaridade']):\n",
    "        self.ordinal_feature = ordinal_feature\n",
    "    def fit(self,df):\n",
    "        return self\n",
    "    def transform(self,df):\n",
    "        if 'Grau_escolaridade' in df.columns:\n",
    "            ordinal_encoder = OrdinalEncoder()\n",
    "            df[self.ordinal_feature] = ordinal_encoder.fit_transform(df[self.ordinal_feature])\n",
    "            return df\n",
    "        else:\n",
    "            print(\"Grau_escolaridade não está no DataFrame\")\n",
    "            return df"
   ]
  },
  {
   "cell_type": "code",
   "execution_count": null,
   "metadata": {
    "id": "FkL3MObbYE1L"
   },
   "outputs": [],
   "source": [
    "class Oversample(BaseEstimator,TransformerMixin):\n",
    "    def __init__(self):\n",
    "        pass\n",
    "    def fit(self,df):\n",
    "        return self\n",
    "    def transform(self,df):\n",
    "        if 'Mau' in df.columns:\n",
    "            # função smote para superamostrar a classe minoritária para corrigir os dados desbalanceados\n",
    "            oversample = SMOTE(sampling_strategy='minority')\n",
    "            X_bal, y_bal = oversample.fit_resample(df.loc[:, df.columns != 'Mau'], df['Mau'])\n",
    "            df_bal = pd.concat([pd.DataFrame(X_bal),pd.DataFrame(y_bal)],axis=1)\n",
    "            return df_bal\n",
    "        else:\n",
    "            print(\"O target não está no DataFrame\")\n",
    "            return df"
   ]
  },
  {
   "cell_type": "code",
   "execution_count": null,
   "metadata": {
    "id": "9xWS-CxhYVBS"
   },
   "outputs": [],
   "source": [
    "from sklearn.pipeline import Pipeline"
   ]
  },
  {
   "cell_type": "code",
   "execution_count": null,
   "metadata": {
    "id": "QcwwkePoYW7h"
   },
   "outputs": [],
   "source": [
    "def pipeline(df):\n",
    "\n",
    "    pipeline = Pipeline([\n",
    "        ('feature_dropper', DropFeatures()),\n",
    "        ('OneHotEncoding', OneHotEncodingNames()),\n",
    "        ('ordinal_feature', OrdinalFeature()),\n",
    "        ('min_max_scaler', MinMax()),\n",
    "        ('oversample', Oversample())\n",
    "    ])\n",
    "    df_pipeline = pipeline.fit_transform(df)\n",
    "    return df_pipeline"
   ]
  },
  {
   "cell_type": "markdown",
   "metadata": {
    "id": "Ny9_ROlLQHG8"
   },
   "source": [
    "#**Aula 4 - Machine Learning: Escolhendo o Melhor Modelo**\n"
   ]
  },
  {
   "cell_type": "code",
   "execution_count": null,
   "metadata": {
    "id": "PplBPNykYZMa"
   },
   "outputs": [],
   "source": [
    "train = pipeline(train_df)"
   ]
  },
  {
   "cell_type": "code",
   "execution_count": null,
   "metadata": {
    "colab": {
     "base_uri": "https://localhost:8080/"
    },
    "id": "105fiWx7YZO6",
    "outputId": "11d46691-cf70-4871-cf2e-d414779515b2"
   },
   "outputs": [],
   "source": [
    "train.head()"
   ]
  },
  {
   "cell_type": "code",
   "execution_count": null,
   "metadata": {
    "id": "UyUbXN-PQKJD"
   },
   "outputs": [],
   "source": [
    "X_train, y_train = train.loc[:, train.columns != 'Mau'], train['Mau']"
   ]
  },
  {
   "cell_type": "code",
   "execution_count": null,
   "metadata": {
    "id": "Fbqt0bzZYme2"
   },
   "outputs": [],
   "source": [
    "test = pipeline(test_df)"
   ]
  },
  {
   "cell_type": "code",
   "execution_count": null,
   "metadata": {
    "colab": {
     "base_uri": "https://localhost:8080/",
     "height": 317
    },
    "id": "hdX7VDwPMo7B",
    "outputId": "7ea87c6d-0ead-417e-e6d9-b9b971d0a821"
   },
   "outputs": [],
   "source": [
    "test.head()"
   ]
  },
  {
   "cell_type": "code",
   "execution_count": null,
   "metadata": {
    "id": "IP2_VHPEYmhM"
   },
   "outputs": [],
   "source": [
    "X_test, y_test= test.loc[:, test.columns != 'Mau'], test['Mau']"
   ]
  },
  {
   "cell_type": "code",
   "execution_count": null,
   "metadata": {
    "id": "dfzzXT_FYmkG"
   },
   "outputs": [],
   "source": [
    "from sklearn import metrics\n",
    "from sklearn.metrics import classification_report, plot_confusion_matrix, roc_auc_score, plot_roc_curve \n",
    "from scipy import stats\n",
    "import warnings\n",
    "warnings.filterwarnings(\"ignore\")"
   ]
  },
  {
   "cell_type": "markdown",
   "metadata": {
    "id": "ts6mTJLh_EKO"
   },
   "source": [
    "###**Teste KS**"
   ]
  },
  {
   "cell_type": "markdown",
   "metadata": {
    "id": "OOc9rARF-7w_"
   },
   "source": [
    "![image.png](data:image/png;base64,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)"
   ]
  },
  {
   "cell_type": "code",
   "execution_count": null,
   "metadata": {
    "id": "oiIwaI8fYrM2"
   },
   "outputs": [],
   "source": [
    "SEED = 1561651\n",
    "\n",
    "def roda_modelo(modelo):\n",
    "\n",
    "\n",
    "    # Treinando modelo com os dados de treino\n",
    "\n",
    "    modelo.fit(X_train, y_train)\n",
    "\n",
    "    # Calculando a probabilidade e calculando o AUC\n",
    "    prob_predic = modelo.predict_proba(X_test)\n",
    "\n",
    "    print(f\"\\n------------------------------Resultados {modelo}------------------------------\\n\")\n",
    "\n",
    "    auc = roc_auc_score(y_test, prob_predic[:,1])\n",
    "    print(f\"AUC {auc}\")\n",
    "    \n",
    "    # Separando a probabilidade de ser bom e mau, e calculando o KS\n",
    "    #métrica KS: probabilidade de um cliente ser classificado como bom ou mau. \n",
    "    data_bom = np.sort(modelo.predict_proba(X_test)[:, 0])\n",
    "    data_mau = np.sort(modelo.predict_proba(X_test)[:, 1])\n",
    "    kstest = stats.ks_2samp(data_bom, data_mau)\n",
    "\n",
    "    print(f\"Métrica KS: {kstest}\")\n",
    "\n",
    "    print(\"\\nConfusion Matrix\\n\")\n",
    "    # Criando matriz de confusão\n",
    "    fig, ax = plt.subplots(figsize=(7,7))\n",
    "    matriz_confusao = plot_confusion_matrix(modelo, X_test, y_test, normalize='true',\n",
    "                                            display_labels=['Bom pagador', 'Mau pagador'],\n",
    "                                            ax=ax, cmap=plt.cm.Blues)\n",
    "    ax.set_title(\"Matriz de Confusão\\n Normalizada\", fontsize=16, fontweight=\"bold\")\n",
    "    ax.set_xlabel(\"Label predita\", fontsize=18)\n",
    "    ax.set_ylabel(\"Label verdadeira\", fontsize=18)\n",
    "    plt.grid(False)    \n",
    "    plt.show(matriz_confusao)\n",
    "\n",
    "    # Fazendo a predicao dos dados de teste e calculando o classification report\n",
    "    predicao = modelo.predict(X_test)\n",
    "    print(\"\\nClassification Report\")\n",
    "    print(classification_report(y_test, predicao, zero_division=0))\n",
    "\n",
    "\n",
    "    print(\"\\nRoc Curve\\n\")\n",
    "    metrics.plot_roc_curve(modelo, X_test, y_test)\n"
   ]
  },
  {
   "cell_type": "code",
   "execution_count": null,
   "metadata": {
    "id": "eUg6iWjrYrPN"
   },
   "outputs": [],
   "source": [
    "from sklearn.linear_model import LogisticRegression\n",
    "modelo_logistico = LogisticRegression()"
   ]
  },
  {
   "cell_type": "code",
   "execution_count": null,
   "metadata": {
    "colab": {
     "base_uri": "https://localhost:8080/",
     "height": 1000
    },
    "id": "PYtI7HTSYrRd",
    "outputId": "0ac74d5c-7523-49c3-eb8d-cc82b0954603"
   },
   "outputs": [],
   "source": [
    "roda_modelo(modelo_logistico)"
   ]
  },
  {
   "cell_type": "code",
   "execution_count": null,
   "metadata": {
    "id": "Z0kt2aDQanfx"
   },
   "outputs": [],
   "source": [
    "from sklearn.tree import DecisionTreeClassifier\n",
    "modelo_tree = DecisionTreeClassifier()"
   ]
  },
  {
   "cell_type": "code",
   "execution_count": null,
   "metadata": {
    "colab": {
     "base_uri": "https://localhost:8080/"
    },
    "id": "w4pmiuh7Yvy0",
    "outputId": "61b381e8-bae2-4574-ff19-adfeb69d1970"
   },
   "outputs": [],
   "source": [
    "roda_modelo(modelo_tree)"
   ]
  },
  {
   "cell_type": "code",
   "execution_count": null,
   "metadata": {
    "id": "i3rcyUO_axbI"
   },
   "outputs": [],
   "source": [
    "from sklearn.ensemble import RandomForestClassifier\n",
    "modelo_forest = RandomForestClassifier()"
   ]
  },
  {
   "cell_type": "code",
   "execution_count": null,
   "metadata": {
    "colab": {
     "base_uri": "https://localhost:8080/",
     "height": 1000
    },
    "id": "cH0KV7XoYv1f",
    "outputId": "9130e6cd-36aa-4d11-c4c9-66c16069c0fc"
   },
   "outputs": [],
   "source": [
    "roda_modelo(modelo_forest)"
   ]
  },
  {
   "cell_type": "code",
   "execution_count": null,
   "metadata": {
    "id": "44Er2DdWaswl"
   },
   "outputs": [],
   "source": [
    "from sklearn.ensemble import GradientBoostingClassifier\n",
    "modelo_xgb = GradientBoostingClassifier()"
   ]
  },
  {
   "cell_type": "code",
   "execution_count": null,
   "metadata": {
    "colab": {
     "base_uri": "https://localhost:8080/",
     "height": 1000
    },
    "id": "bY-YrOtyYrTs",
    "outputId": "682c4f5f-7c00-4ea2-a639-522585393ac8"
   },
   "outputs": [],
   "source": [
    "roda_modelo(modelo_xgb)"
   ]
  },
  {
   "cell_type": "code",
   "execution_count": null,
   "metadata": {
    "id": "CkYNlQOpY2v3"
   },
   "outputs": [],
   "source": [
    "import joblib "
   ]
  },
  {
   "cell_type": "code",
   "execution_count": null,
   "metadata": {
    "colab": {
     "base_uri": "https://localhost:8080/"
    },
    "id": "O6UPDyX-Y2yw",
    "outputId": "8f1e17fb-009c-4d7e-fc0d-d7adc2f00517"
   },
   "outputs": [],
   "source": [
    "joblib.dump(modelo_xgb, 'xgb.joblib')"
   ]
  }
 ],
 "metadata": {
  "colab": {
   "collapsed_sections": [
    "-Nlc3edfaDei"
   ],
   "provenance": []
  },
  "kernelspec": {
   "display_name": "Python 3 (ipykernel)",
   "language": "python",
   "name": "python3"
  },
  "language_info": {
   "codemirror_mode": {
    "name": "ipython",
    "version": 3
   },
   "file_extension": ".py",
   "mimetype": "text/x-python",
   "name": "python",
   "nbconvert_exporter": "python",
   "pygments_lexer": "ipython3",
   "version": "3.9.13"
  }
 },
 "nbformat": 4,
 "nbformat_minor": 1
}
